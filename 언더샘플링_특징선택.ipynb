{
 "cells": [
  {
   "cell_type": "code",
   "execution_count": 1,
   "metadata": {},
   "outputs": [],
   "source": [
    "import pandas as pd\n",
    "import numpy as np\n",
    "\n",
    "import matplotlib.pyplot as plt\n",
    "\n",
    "import warnings\n",
    "warnings.filterwarnings(action='ignore') \n",
    "\n",
    "import missingno as msno\n",
    "from tqdm import tqdm_notebook"
   ]
  },
  {
   "cell_type": "code",
   "execution_count": 2,
   "metadata": {},
   "outputs": [],
   "source": [
    "train_iden = pd.read_csv(r\"C:\\Users\\EPOPCON\\Desktop\\Kaggle\\train_identity.csv\")\n",
    "train_tran = pd.read_csv(r\"C:\\Users\\EPOPCON\\Desktop\\Kaggle\\train_transaction.csv\")\n",
    "test_iden = pd.read_csv(r\"C:\\Users\\EPOPCON\\Desktop\\Kaggle\\test_identity.csv\")\n",
    "test_tran = pd.read_csv(r\"C:\\Users\\EPOPCON\\Desktop\\Kaggle\\test_transaction.csv\")"
   ]
  },
  {
   "cell_type": "code",
   "execution_count": 3,
   "metadata": {},
   "outputs": [
    {
     "name": "stdout",
     "output_type": "stream",
     "text": [
      "144233\n",
      "590540\n",
      "141907\n",
      "506691\n"
     ]
    }
   ],
   "source": [
    "print (len (train_iden))\n",
    "print (len (train_tran))\n",
    "print (len (test_iden))\n",
    "print (len (test_tran))"
   ]
  },
  {
   "cell_type": "code",
   "execution_count": 4,
   "metadata": {},
   "outputs": [],
   "source": [
    "train_sample = train_tran[['isFraud','V280',\n",
    "       'V284', 'V285', 'V286', 'V287', 'V290', 'V291', 'V292',\n",
    "       'V293', 'V294', 'V295', 'V297', 'V298', 'V299', 'V303', 'V304', 'V305', 'V306']]\n",
    "sample = train_sample.fillna(train_sample.mean())"
   ]
  },
  {
   "cell_type": "code",
   "execution_count": 5,
   "metadata": {},
   "outputs": [],
   "source": [
    "train_sample = train_tran[['isFraud','C1', 'C2', 'C3', 'C4', 'C5', 'C6', 'C7', \n",
    "       'C8', 'C9', 'C10', 'C11','C12', 'C13', 'C14','D1',\n",
    "                           \n",
    "       'V95','V96','V97', 'V98', 'V99', 'V100', 'V101', 'V102', 'V103', 'V104', 'V105',\n",
    "       'V106', 'V107', 'V108', 'V109', 'V110', 'V111', 'V112', 'V113', 'V114',\n",
    "       'V115', 'V116', 'V117', 'V118', 'V119', 'V120', 'V121', 'V122', 'V123',\n",
    "       'V124', 'V125', 'V126', 'V127', 'V128', 'V129', 'V130', 'V131', 'V132','V133', 'V134', 'V135', 'V136','V137',\n",
    "                           \n",
    "       'V280','V284', 'V285', 'V286', 'V287', 'V290', 'V291', 'V292',\n",
    "       'V293', 'V294', 'V295', 'V297', 'V298', 'V299', 'V303', 'V304', 'V305', 'V306']]\n",
    "sample = train_sample.fillna(train_sample.mean())"
   ]
  },
  {
   "cell_type": "code",
   "execution_count": 6,
   "metadata": {},
   "outputs": [],
   "source": [
    "import itertools\n",
    "from sklearn.linear_model import LogisticRegression\n",
    "from sklearn.model_selection import train_test_split\n",
    "from sklearn.metrics import * "
   ]
  },
  {
   "cell_type": "code",
   "execution_count": 7,
   "metadata": {},
   "outputs": [
    {
     "name": "stdout",
     "output_type": "stream",
     "text": [
      "0.8053810538625781\n"
     ]
    }
   ],
   "source": [
    "import imblearn.under_sampling as usam\n",
    "import imblearn.over_sampling as osam \n",
    "from sklearn.ensemble import RandomForestClassifier\n",
    "\n",
    "\n",
    "X = sample.drop('isFraud', axis = 1)\n",
    "Y = sample['isFraud']\n",
    "feature_names = X.columns.tolist() # 컬럼을 리스트화\n",
    "Train_X, Test_X, Train_Y, Test_Y = train_test_split(X, Y, test_size = 0.1, random_state = 13,\n",
    "                                                    shuffle= False)\n",
    "\n",
    "rus = usam.RandomUnderSampler()\n",
    "undersampled_X, undersampled_Y = rus.fit_sample(Train_X, Train_Y)\n",
    "model = RandomForestClassifier(n_estimators = 200, max_depth = 10, random_state = 13).fit(undersampled_X, undersampled_Y)\n",
    "predicted = model.predict(Test_X)\n",
    "print (roc_auc_score(Test_Y, predicted))"
   ]
  },
  {
   "cell_type": "code",
   "execution_count": 8,
   "metadata": {},
   "outputs": [],
   "source": [
    "df_undersampled_X = pd.DataFrame(columns = feature_names,data = undersampled_X)\n",
    "df_undersampled_Y = pd.DataFrame(columns = ['isFraud'], data = undersampled_Y)"
   ]
  },
  {
   "cell_type": "code",
   "execution_count": 9,
   "metadata": {},
   "outputs": [],
   "source": [
    "df_under_sample = pd.concat([df_undersampled_Y,df_undersampled_X],axis = 1)"
   ]
  },
  {
   "cell_type": "code",
   "execution_count": 10,
   "metadata": {},
   "outputs": [
    {
     "name": "stdout",
     "output_type": "stream",
     "text": [
      "0.7924921863891771\n"
     ]
    }
   ],
   "source": [
    "# 특징을 전부 적용했을 때의 정확도 계산\n",
    "X = df_under_sample.drop('isFraud', axis = 1)\n",
    "Y = df_under_sample['isFraud']\n",
    "feature_names = X.columns.tolist() # 컬럼을 리스트화\n",
    "\n",
    "Train_X, Test_X, Train_Y, Test_Y = train_test_split(X, Y)\n",
    "model = RandomForestClassifier(n_estimators = 200, max_depth = 10, random_state = 13)\n",
    "model.fit(Train_X, Train_Y)\n",
    "predicted = model.predict(Test_X)\n",
    "print (roc_auc_score(Test_Y, predicted))"
   ]
  },
  {
   "cell_type": "code",
   "execution_count": null,
   "metadata": {},
   "outputs": [
    {
     "data": {
      "application/vnd.jupyter.widget-view+json": {
       "model_id": "b5679ac8512a429687344b2d912fbfd4",
       "version_major": 2,
       "version_minor": 0
      },
      "text/plain": [
       "HBox(children=(IntProgress(value=1, bar_style='info', max=1), HTML(value='')))"
      ]
     },
     "metadata": {},
     "output_type": "display_data"
    },
    {
     "name": "stdout",
     "output_type": "stream",
     "text": [
      "\n"
     ]
    },
    {
     "data": {
      "application/vnd.jupyter.widget-view+json": {
       "model_id": "12d1d33555644fe9aa61411796ec6ab2",
       "version_major": 2,
       "version_minor": 0
      },
      "text/plain": [
       "HBox(children=(IntProgress(value=1, bar_style='info', max=1), HTML(value='')))"
      ]
     },
     "metadata": {},
     "output_type": "display_data"
    }
   ],
   "source": [
    "Number_of_better_feature_set = 0\n",
    "for L in range(2, len(feature_names)): # 2부터 feature -1 개수만큼 for문을 반복\n",
    "    for subset in tqdm_notebook(itertools.combinations(feature_names, L)): # feature_names에서 L개를 선택하는 모든 조합(튜플)\n",
    "        New_Train_X = Train_X[list(subset)] # X[tuple]은 작동하지 않아서, X[list]형태로 바꿔준 것\n",
    "        New_Test_X = Test_X[list(subset)]        \n",
    "        model = RandomForestClassifier(n_estimators=100, max_depth=2,random_state=0)\n",
    "        model.fit(New_Train_X, Train_Y) \n",
    "        predicted = model.predict(New_Test_X)\n",
    "        New_accuracy = roc_auc_score(Test_Y, predicted)\n",
    "        if New_accuracy > 0.81:\n",
    "            Number_of_better_feature_set += 1\n",
    "            print(list(subset), '\\t', len(subset), '\\t', New_accuracy) "
   ]
  },
  {
   "cell_type": "code",
   "execution_count": null,
   "metadata": {},
   "outputs": [],
   "source": [
    "# 수정본\n",
    "Number_of_better_feature_set = 0\n",
    "len_ = len(feature_names)\n",
    "for L in tqdm_notebook(range(len_,1,-1)): # 2부터 feature -1 개수만큼 for문을 반복\n",
    "    for subset in itertools.combinations(feature_names, L): # feature_names에서 L개를 선택하는 모든 조합(튜플)\n",
    "        New_Train_X = Train_X[list(subset)] # X[tuple]은 작동하지 않아서, X[list]형태로 바꿔준 것\n",
    "        New_Test_X = Test_X[list(subset)]        \n",
    "        model = RandomForestClassifier(n_estimators=100, max_depth=2,random_state=0)\n",
    "        model.fit(New_Train_X, Train_Y) \n",
    "        predicted = model.predict(New_Test_X)\n",
    "        New_accuracy = roc_auc_score(Test_Y, predicted)\n",
    "        if New_accuracy > 0.81:\n",
    "            Number_of_better_feature_set += 1\n",
    "            print(list(subset), '\\t', len(subset), '\\t', New_accuracy) "
   ]
  }
 ],
 "metadata": {
  "kernelspec": {
   "display_name": "Python 3",
   "language": "python",
   "name": "python3"
  },
  "language_info": {
   "codemirror_mode": {
    "name": "ipython",
    "version": 3
   },
   "file_extension": ".py",
   "mimetype": "text/x-python",
   "name": "python",
   "nbconvert_exporter": "python",
   "pygments_lexer": "ipython3",
   "version": "3.7.3"
  }
 },
 "nbformat": 4,
 "nbformat_minor": 2
}
