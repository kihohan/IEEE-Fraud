{
 "cells": [
  {
   "cell_type": "code",
   "execution_count": 1,
   "metadata": {},
   "outputs": [],
   "source": [
    "import pandas as pd\n",
    "import os\n",
    "from scipy import stats\n",
    "from matplotlib.image import imread\n",
    "import seaborn as sns\n",
    "import matplotlib.pyplot as plt\n",
    "plt.style.use('ggplot')\n",
    "\n",
    "from matplotlib import rc\n",
    "rc('font', family = 'AppleGothic')\n",
    "plt.rcParams['axes.unicode_minus'] = False"
   ]
  },
  {
   "cell_type": "code",
   "execution_count": 32,
   "metadata": {},
   "outputs": [],
   "source": [
    "os.chdir('/home/kiho/바탕화면')"
   ]
  },
  {
   "cell_type": "code",
   "execution_count": 33,
   "metadata": {},
   "outputs": [],
   "source": [
    "df= pd.read_csv(\"seoul_df.csv\")"
   ]
  },
  {
   "cell_type": "code",
   "execution_count": 34,
   "metadata": {},
   "outputs": [],
   "source": [
    "df_01 = df[df['reg_02.gs'] == '1분위수']"
   ]
  },
  {
   "cell_type": "code",
   "execution_count": 35,
   "metadata": {},
   "outputs": [
    {
     "data": {
      "text/html": [
       "<div>\n",
       "<style scoped>\n",
       "    .dataframe tbody tr th:only-of-type {\n",
       "        vertical-align: middle;\n",
       "    }\n",
       "\n",
       "    .dataframe tbody tr th {\n",
       "        vertical-align: top;\n",
       "    }\n",
       "\n",
       "    .dataframe thead th {\n",
       "        text-align: right;\n",
       "    }\n",
       "</style>\n",
       "<table border=\"1\" class=\"dataframe\">\n",
       "  <thead>\n",
       "    <tr style=\"text-align: right;\">\n",
       "      <th></th>\n",
       "      <th>마스크</th>\n",
       "      <th>스타킹</th>\n",
       "      <th>스테디셀러</th>\n",
       "      <th>일회용품</th>\n",
       "      <th>계절성(여름,겨울)</th>\n",
       "      <th>00~19</th>\n",
       "      <th>20~39</th>\n",
       "      <th>40~59</th>\n",
       "      <th>60~99</th>\n",
       "      <th>F</th>\n",
       "      <th>M</th>\n",
       "      <th>temp_max</th>\n",
       "      <th>wind_max</th>\n",
       "      <th>temp_min</th>\n",
       "      <th>temp_avg</th>\n",
       "      <th>rhumid_avg</th>\n",
       "      <th>wa_avg</th>\n",
       "      <th>rain_sum</th>\n",
       "    </tr>\n",
       "  </thead>\n",
       "  <tbody>\n",
       "    <tr>\n",
       "      <th>0</th>\n",
       "      <td>77.0</td>\n",
       "      <td>77.0</td>\n",
       "      <td>8677.0</td>\n",
       "      <td>288.0</td>\n",
       "      <td>5071.0</td>\n",
       "      <td>357</td>\n",
       "      <td>9203</td>\n",
       "      <td>4293</td>\n",
       "      <td>337</td>\n",
       "      <td>8250</td>\n",
       "      <td>5940</td>\n",
       "      <td>4.8</td>\n",
       "      <td>2.6</td>\n",
       "      <td>-2.6</td>\n",
       "      <td>1.8</td>\n",
       "      <td>76.2</td>\n",
       "      <td>0.9</td>\n",
       "      <td>0.0</td>\n",
       "    </tr>\n",
       "    <tr>\n",
       "      <th>4</th>\n",
       "      <td>35.0</td>\n",
       "      <td>105.0</td>\n",
       "      <td>8617.0</td>\n",
       "      <td>267.0</td>\n",
       "      <td>4936.0</td>\n",
       "      <td>525</td>\n",
       "      <td>9456</td>\n",
       "      <td>3692</td>\n",
       "      <td>287</td>\n",
       "      <td>7622</td>\n",
       "      <td>6338</td>\n",
       "      <td>9.7</td>\n",
       "      <td>3.4</td>\n",
       "      <td>2.3</td>\n",
       "      <td>6.3</td>\n",
       "      <td>79.5</td>\n",
       "      <td>1.3</td>\n",
       "      <td>0.0</td>\n",
       "    </tr>\n",
       "    <tr>\n",
       "      <th>8</th>\n",
       "      <td>56.0</td>\n",
       "      <td>112.0</td>\n",
       "      <td>7528.0</td>\n",
       "      <td>266.0</td>\n",
       "      <td>4594.0</td>\n",
       "      <td>546</td>\n",
       "      <td>8535</td>\n",
       "      <td>3286</td>\n",
       "      <td>189</td>\n",
       "      <td>6988</td>\n",
       "      <td>5568</td>\n",
       "      <td>9.4</td>\n",
       "      <td>3.0</td>\n",
       "      <td>4.6</td>\n",
       "      <td>6.7</td>\n",
       "      <td>83.8</td>\n",
       "      <td>1.0</td>\n",
       "      <td>0.0</td>\n",
       "    </tr>\n",
       "    <tr>\n",
       "      <th>12</th>\n",
       "      <td>49.0</td>\n",
       "      <td>98.0</td>\n",
       "      <td>7314.0</td>\n",
       "      <td>337.0</td>\n",
       "      <td>4381.0</td>\n",
       "      <td>336</td>\n",
       "      <td>8124</td>\n",
       "      <td>3544</td>\n",
       "      <td>175</td>\n",
       "      <td>7392</td>\n",
       "      <td>4787</td>\n",
       "      <td>6.2</td>\n",
       "      <td>4.6</td>\n",
       "      <td>-1.6</td>\n",
       "      <td>2.8</td>\n",
       "      <td>54.5</td>\n",
       "      <td>2.3</td>\n",
       "      <td>0.0</td>\n",
       "    </tr>\n",
       "    <tr>\n",
       "      <th>16</th>\n",
       "      <td>21.0</td>\n",
       "      <td>56.0</td>\n",
       "      <td>8009.0</td>\n",
       "      <td>252.0</td>\n",
       "      <td>3534.0</td>\n",
       "      <td>434</td>\n",
       "      <td>8058</td>\n",
       "      <td>3205</td>\n",
       "      <td>175</td>\n",
       "      <td>6727</td>\n",
       "      <td>5145</td>\n",
       "      <td>1.6</td>\n",
       "      <td>4.1</td>\n",
       "      <td>-3.6</td>\n",
       "      <td>-1.6</td>\n",
       "      <td>41.5</td>\n",
       "      <td>1.8</td>\n",
       "      <td>0.0</td>\n",
       "    </tr>\n",
       "    <tr>\n",
       "      <th>20</th>\n",
       "      <td>14.0</td>\n",
       "      <td>119.0</td>\n",
       "      <td>9350.0</td>\n",
       "      <td>203.0</td>\n",
       "      <td>3443.0</td>\n",
       "      <td>533</td>\n",
       "      <td>9106</td>\n",
       "      <td>3238</td>\n",
       "      <td>252</td>\n",
       "      <td>6946</td>\n",
       "      <td>6183</td>\n",
       "      <td>2.3</td>\n",
       "      <td>3.5</td>\n",
       "      <td>-3.8</td>\n",
       "      <td>-0.8</td>\n",
       "      <td>57.5</td>\n",
       "      <td>1.3</td>\n",
       "      <td>0.0</td>\n",
       "    </tr>\n",
       "  </tbody>\n",
       "</table>\n",
       "</div>"
      ],
      "text/plain": [
       "     마스크    스타킹   스테디셀러   일회용품  계절성(여름,겨울)  00~19  20~39  40~59  60~99     F  \\\n",
       "0   77.0   77.0  8677.0  288.0      5071.0    357   9203   4293    337  8250   \n",
       "4   35.0  105.0  8617.0  267.0      4936.0    525   9456   3692    287  7622   \n",
       "8   56.0  112.0  7528.0  266.0      4594.0    546   8535   3286    189  6988   \n",
       "12  49.0   98.0  7314.0  337.0      4381.0    336   8124   3544    175  7392   \n",
       "16  21.0   56.0  8009.0  252.0      3534.0    434   8058   3205    175  6727   \n",
       "20  14.0  119.0  9350.0  203.0      3443.0    533   9106   3238    252  6946   \n",
       "\n",
       "       M  temp_max  wind_max  temp_min  temp_avg  rhumid_avg  wa_avg  rain_sum  \n",
       "0   5940       4.8       2.6      -2.6       1.8        76.2     0.9       0.0  \n",
       "4   6338       9.7       3.4       2.3       6.3        79.5     1.3       0.0  \n",
       "8   5568       9.4       3.0       4.6       6.7        83.8     1.0       0.0  \n",
       "12  4787       6.2       4.6      -1.6       2.8        54.5     2.3       0.0  \n",
       "16  5145       1.6       4.1      -3.6      -1.6        41.5     1.8       0.0  \n",
       "20  6183       2.3       3.5      -3.8      -0.8        57.5     1.3       0.0  "
      ]
     },
     "execution_count": 35,
     "metadata": {},
     "output_type": "execute_result"
    }
   ],
   "source": [
    "df_01 = df_01.drop(['date.gs','reg_02.gs'], axis = 1)\n",
    "df_01.head(6)"
   ]
  },
  {
   "cell_type": "code",
   "execution_count": 18,
   "metadata": {},
   "outputs": [],
   "source": [
    "data = list(df_01['마스크'])"
   ]
  },
  {
   "cell_type": "code",
   "execution_count": 42,
   "metadata": {},
   "outputs": [],
   "source": [
    "from tensorflow.python.client import device_lib\n",
    "import keras.backend.tensorflow_backend as K\n",
    "#print(device_lib.list_local_devices())\n",
    "\n",
    "# univariate cnn example\n",
    "from numpy import array\n",
    "from keras.models import Sequential\n",
    "from keras.layers import Dense\n",
    "from keras.layers import Flatten\n",
    "from keras.layers.convolutional import Conv1D\n",
    "from keras.layers.convolutional import MaxPooling1D\n",
    "np.random.seed(3)"
   ]
  },
  {
   "cell_type": "code",
   "execution_count": 43,
   "metadata": {},
   "outputs": [],
   "source": [
    "def split_sequence(sequence, n_steps):\n",
    "    X, y = list(), list()\n",
    "    for i in range(len(sequence)):\n",
    "        # find the end of this pattern\n",
    "        end_ix = i + n_steps\n",
    "        # check if we are beyond the sequence\n",
    "        if end_ix > len(sequence)-1:\n",
    "            break\n",
    "        # gather input and output parts of the pattern\n",
    "        seq_x, seq_y = sequence[i:end_ix], sequence[end_ix]\n",
    "        X.append(seq_x)\n",
    "        y.append(seq_y)\n",
    "    return array(X), array(y)"
   ]
  },
  {
   "cell_type": "code",
   "execution_count": 44,
   "metadata": {},
   "outputs": [],
   "source": [
    "n_steps = 3\n",
    "# split into samples\n",
    "X, y = split_sequence(data, n_steps)"
   ]
  },
  {
   "cell_type": "code",
   "execution_count": 48,
   "metadata": {},
   "outputs": [
    {
     "name": "stdout",
     "output_type": "stream",
     "text": [
      "[[77.]\n",
      " [35.]\n",
      " [56.]] 49.0\n",
      "[[35.]\n",
      " [56.]\n",
      " [49.]] 21.0\n",
      "[[56.]\n",
      " [49.]\n",
      " [21.]] 14.0\n",
      "[[49.]\n",
      " [21.]\n",
      " [14.]] 7.0\n",
      "[[21.]\n",
      " [14.]\n",
      " [ 7.]] 14.0\n",
      "[[14.]\n",
      " [ 7.]\n",
      " [14.]] 42.0\n",
      "[[ 7.]\n",
      " [14.]\n",
      " [42.]] 35.0\n",
      "[[14.]\n",
      " [42.]\n",
      " [35.]] 35.0\n",
      "[[42.]\n",
      " [35.]\n",
      " [35.]] 70.0\n",
      "[[35.]\n",
      " [35.]\n",
      " [70.]] 28.0\n"
     ]
    }
   ],
   "source": [
    "# summarize the data\n",
    "for i in range(10):\n",
    "    print(X[i], y[i])"
   ]
  },
  {
   "cell_type": "code",
   "execution_count": 46,
   "metadata": {},
   "outputs": [],
   "source": [
    "# reshape from [samples, timesteps] into [samples, timesteps, features]\n",
    "n_features = 1\n",
    "X = X.reshape((X.shape[0], X.shape[1], n_features))"
   ]
  },
  {
   "cell_type": "code",
   "execution_count": 47,
   "metadata": {},
   "outputs": [],
   "source": [
    "with K.tf.device('/gpu:0'): #'/cpu:0'\n",
    "    # define model\n",
    "    model = Sequential()\n",
    "    model.add(Conv1D(filters=64, kernel_size=2, # kernel_siz는 filter랑 같음\n",
    "                     activation='relu', # relu 불필요한걸 다 처낸다.\n",
    "                     input_shape=(n_steps, n_features)))\n",
    "    model.add(MaxPooling1D(pool_size=2)) # pool_size는 2~3\n",
    "    model.add(Flatten())\n",
    "    model.add(Dense(50, activation='relu'))\n",
    "    model.add(Dense(1))\n",
    "    model.compile(optimizer='adam', loss='mse')\n",
    "\n",
    "    # fit model\n",
    "    model.fit(X, y, epochs=1000, verbose=0)"
   ]
  },
  {
   "cell_type": "code",
   "execution_count": 52,
   "metadata": {},
   "outputs": [
    {
     "name": "stdout",
     "output_type": "stream",
     "text": [
      "[[26.154034]]\n"
     ]
    }
   ],
   "source": [
    "# demonstrate prediction\n",
    "x_input = array([14, 42, 35])\n",
    "x_input = x_input.reshape((1, n_steps, n_features))\n",
    "yhat = model.predict(x_input, verbose=0)\n",
    "print (yhat)"
   ]
  },
  {
   "cell_type": "code",
   "execution_count": null,
   "metadata": {},
   "outputs": [],
   "source": []
  }
 ],
 "metadata": {
  "kernelspec": {
   "display_name": "Python 3",
   "language": "python",
   "name": "python3"
  },
  "language_info": {
   "codemirror_mode": {
    "name": "ipython",
    "version": 3
   },
   "file_extension": ".py",
   "mimetype": "text/x-python",
   "name": "python",
   "nbconvert_exporter": "python",
   "pygments_lexer": "ipython3",
   "version": "3.7.3"
  }
 },
 "nbformat": 4,
 "nbformat_minor": 2
}
