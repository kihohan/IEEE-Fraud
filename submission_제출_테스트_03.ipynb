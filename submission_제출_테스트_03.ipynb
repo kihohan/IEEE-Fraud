{
 "cells": [
  {
   "cell_type": "code",
   "execution_count": 1,
   "metadata": {},
   "outputs": [],
   "source": [
    "import pandas as pd\n",
    "import numpy as np\n",
    "\n",
    "import matplotlib.pyplot as plt\n",
    "\n",
    "import warnings\n",
    "warnings.filterwarnings(action='ignore') \n",
    "\n",
    "import missingno as msno\n",
    "from tqdm import tqdm_notebook"
   ]
  },
  {
   "cell_type": "code",
   "execution_count": 2,
   "metadata": {},
   "outputs": [],
   "source": [
    "train_iden = pd.read_csv(\"train_identity.csv\")\n",
    "train_tran = pd.read_csv(\"train_transaction.csv\")\n",
    "test_iden = pd.read_csv(\"test_identity.csv\")\n",
    "test_tran = pd.read_csv(\"test_transaction.csv\")"
   ]
  },
  {
   "cell_type": "code",
   "execution_count": 3,
   "metadata": {},
   "outputs": [],
   "source": [
    "train_sample = train_tran[['isFraud',\n",
    "                           'TransactionDT',\t'TransactionAmt','card1',\n",
    "                           'C1', 'C2', 'C3', 'C4', 'C5', 'C6', 'C7', \n",
    "       'C8', 'C9', 'C10', 'C11','C12', 'C13', 'C14','D1',\n",
    "                           \n",
    "       'V95','V96','V97', 'V98', 'V99', 'V100', 'V101', 'V102', 'V103', 'V104', 'V105',\n",
    "       'V106', 'V107', 'V108', 'V109', 'V110', 'V111', 'V112', 'V113', 'V114',\n",
    "       'V115', 'V116', 'V117', 'V118', 'V119', 'V120', 'V121', 'V122', 'V123',\n",
    "       'V124', 'V125', 'V126', 'V127', 'V128', 'V129', 'V130', 'V131', 'V132','V133', 'V134', 'V135', 'V136','V137',\n",
    "                           \n",
    "       'V280','V284', 'V285', 'V286', 'V287', 'V290', 'V291', 'V292',\n",
    "       'V293', 'V294', 'V295', 'V297', 'V298', 'V299', 'V303', 'V304', 'V305', 'V306']]\n",
    "sample = train_sample.fillna(train_sample.mean())"
   ]
  },
  {
   "cell_type": "code",
   "execution_count": 4,
   "metadata": {},
   "outputs": [
    {
     "name": "stderr",
     "output_type": "stream",
     "text": [
      "Using TensorFlow backend.\n"
     ]
    }
   ],
   "source": [
    "import itertools\n",
    "from sklearn.model_selection import train_test_split\n",
    "from sklearn.metrics import * \n",
    "import imblearn.under_sampling as usam\n",
    "from sklearn.ensemble import RandomForestClassifier"
   ]
  },
  {
   "cell_type": "code",
   "execution_count": 7,
   "metadata": {},
   "outputs": [],
   "source": [
    "X = sample.drop('isFraud', axis = 1)\n",
    "Y = sample['isFraud']\n",
    "feature_names = X.columns.tolist() # 컬럼을 리스트화\n",
    "Train_X, Test_X, Train_Y, Test_Y = train_test_split(X, Y)"
   ]
  },
  {
   "cell_type": "code",
   "execution_count": 21,
   "metadata": {},
   "outputs": [
    {
     "name": "stdout",
     "output_type": "stream",
     "text": [
      "0.8655097902155386\n"
     ]
    }
   ],
   "source": [
    "from sklearn.ensemble import GradientBoostingClassifier\n",
    "rus = usam.RandomUnderSampler()\n",
    "undersampled_X, undersampled_Y = rus.fit_sample(Train_X, Train_Y)\n",
    "model = GradientBoostingClassifier(n_estimators =  600, random_state  = 13,\n",
    "                                   max_depth = 7, learning_rate = 0.2).fit(undersampled_X, undersampled_Y)\n",
    "# max_depth가 높으면 이상하게 스코어가 낮아짐(제출시)\n",
    "predicted = model.predict(Test_X)\n",
    "print (roc_auc_score(Test_Y, predicted))"
   ]
  },
  {
   "cell_type": "code",
   "execution_count": 22,
   "metadata": {},
   "outputs": [],
   "source": [
    "from sklearn.externals import joblib\n",
    "joblib.dump(model, 'under_sampling_model.pkl')\n",
    "model = joblib.load('under_sampling_model.pkl') "
   ]
  },
  {
   "cell_type": "code",
   "execution_count": 23,
   "metadata": {},
   "outputs": [],
   "source": [
    "test_sample = test_tran[[\n",
    "                           'TransactionDT',\t'TransactionAmt','card1',\n",
    "                           'C1', 'C2', 'C3', 'C4', 'C5', 'C6', 'C7', \n",
    "       'C8', 'C9', 'C10', 'C11','C12', 'C13', 'C14','D1',\n",
    "                           \n",
    "       'V95','V96','V97', 'V98', 'V99', 'V100', 'V101', 'V102', 'V103', 'V104', 'V105',\n",
    "       'V106', 'V107', 'V108', 'V109', 'V110', 'V111', 'V112', 'V113', 'V114',\n",
    "       'V115', 'V116', 'V117', 'V118', 'V119', 'V120', 'V121', 'V122', 'V123',\n",
    "       'V124', 'V125', 'V126', 'V127', 'V128', 'V129', 'V130', 'V131', 'V132','V133', 'V134', 'V135', 'V136','V137',\n",
    "                           \n",
    "       'V280','V284', 'V285', 'V286', 'V287', 'V290', 'V291', 'V292',\n",
    "       'V293', 'V294', 'V295', 'V297', 'V298', 'V299', 'V303', 'V304', 'V305', 'V306']]\n",
    "sample = test_sample.fillna(train_sample.mean())"
   ]
  },
  {
   "cell_type": "code",
   "execution_count": 24,
   "metadata": {},
   "outputs": [],
   "source": [
    "predicted = model.predict(sample)"
   ]
  },
  {
   "cell_type": "code",
   "execution_count": 25,
   "metadata": {},
   "outputs": [
    {
     "data": {
      "text/plain": [
       "506691"
      ]
     },
     "execution_count": 25,
     "metadata": {},
     "output_type": "execute_result"
    }
   ],
   "source": [
    "dic = {'TransactionID':test_tran['TransactionID'],\n",
    "       'isFraud':predicted}\n",
    "submission = pd.DataFrame(dic)\n",
    "len (submission)"
   ]
  },
  {
   "cell_type": "code",
   "execution_count": 26,
   "metadata": {},
   "outputs": [],
   "source": [
    "submission.to_csv('submission.csv', index = False)"
   ]
  },
  {
   "cell_type": "code",
   "execution_count": null,
   "metadata": {},
   "outputs": [],
   "source": []
  }
 ],
 "metadata": {
  "kernelspec": {
   "display_name": "Python 3",
   "language": "python",
   "name": "python3"
  },
  "language_info": {
   "codemirror_mode": {
    "name": "ipython",
    "version": 3
   },
   "file_extension": ".py",
   "mimetype": "text/x-python",
   "name": "python",
   "nbconvert_exporter": "python",
   "pygments_lexer": "ipython3",
   "version": "3.7.3"
  }
 },
 "nbformat": 4,
 "nbformat_minor": 2
}
