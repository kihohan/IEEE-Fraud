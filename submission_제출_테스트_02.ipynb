{
 "cells": [
  {
   "cell_type": "code",
   "execution_count": 34,
   "metadata": {},
   "outputs": [],
   "source": [
    "import pandas as pd\n",
    "import numpy as np\n",
    "\n",
    "import matplotlib.pyplot as plt\n",
    "\n",
    "import warnings\n",
    "warnings.filterwarnings(action='ignore') \n",
    "\n",
    "import missingno as msno\n",
    "from tqdm import tqdm_notebook"
   ]
  },
  {
   "cell_type": "code",
   "execution_count": 36,
   "metadata": {},
   "outputs": [],
   "source": [
    "train_iden = pd.read_csv(r\"C:\\Users\\EPOPCON\\Desktop\\Kaggle\\train_identity.csv\")\n",
    "train_tran = pd.read_csv(r\"C:\\Users\\EPOPCON\\Desktop\\Kaggle\\train_transaction.csv\")\n",
    "test_iden = pd.read_csv(r\"C:\\Users\\EPOPCON\\Desktop\\Kaggle\\test_identity.csv\")\n",
    "test_tran = pd.read_csv(r\"C:\\Users\\EPOPCON\\Desktop\\Kaggle\\test_transaction.csv\")"
   ]
  },
  {
   "cell_type": "code",
   "execution_count": 73,
   "metadata": {},
   "outputs": [
    {
     "name": "stdout",
     "output_type": "stream",
     "text": [
      "144233\n",
      "590540\n",
      "141907\n",
      "506691\n"
     ]
    }
   ],
   "source": [
    "print (len (train_iden))\n",
    "print (len (train_tran))\n",
    "print (len (test_iden))\n",
    "print (len (test_tran))"
   ]
  },
  {
   "cell_type": "code",
   "execution_count": 8,
   "metadata": {},
   "outputs": [],
   "source": [
    "train_sample = train_tran[['isFraud','V280',\n",
    "       'V284', 'V285', 'V286', 'V287', 'V290', 'V291', 'V292',\n",
    "       'V293', 'V294', 'V295', 'V297', 'V298', 'V299', 'V303', 'V304', 'V305', 'V306']]\n",
    "sample = train_sample.fillna(train_sample.mean())"
   ]
  },
  {
   "cell_type": "code",
   "execution_count": 40,
   "metadata": {},
   "outputs": [],
   "source": [
    "train_sample = train_tran[['isFraud','C1', 'C2', 'C3', 'C4', 'C5', 'C6', 'C7', \n",
    "       'C8', 'C9', 'C10', 'C11','C12', 'C13', 'C14','D1',\n",
    "                           \n",
    "       'V95','V96','V97', 'V98', 'V99', 'V100', 'V101', 'V102', 'V103', 'V104', 'V105',\n",
    "       'V106', 'V107', 'V108', 'V109', 'V110', 'V111', 'V112', 'V113', 'V114',\n",
    "       'V115', 'V116', 'V117', 'V118', 'V119', 'V120', 'V121', 'V122', 'V123',\n",
    "       'V124', 'V125', 'V126', 'V127', 'V128', 'V129', 'V130', 'V131', 'V132','V133', 'V134', 'V135', 'V136','V137',\n",
    "                           \n",
    "       'V280','V284', 'V285', 'V286', 'V287', 'V290', 'V291', 'V292',\n",
    "       'V293', 'V294', 'V295', 'V297', 'V298', 'V299', 'V303', 'V304', 'V305', 'V306']]\n",
    "sample = train_sample.fillna(train_sample.mean())"
   ]
  },
  {
   "cell_type": "code",
   "execution_count": 41,
   "metadata": {},
   "outputs": [],
   "source": [
    "import itertools\n",
    "from sklearn.linear_model import LogisticRegression\n",
    "from sklearn.model_selection import train_test_split\n",
    "from sklearn.metrics import * "
   ]
  },
  {
   "cell_type": "code",
   "execution_count": 68,
   "metadata": {},
   "outputs": [
    {
     "name": "stdout",
     "output_type": "stream",
     "text": [
      "0.806498690153147\n"
     ]
    }
   ],
   "source": [
    "import imblearn.under_sampling as usam\n",
    "import imblearn.over_sampling as osam \n",
    "from sklearn.ensemble import RandomForestClassifier\n",
    "\n",
    "\n",
    "X = sample.drop('isFraud', axis = 1)\n",
    "Y = sample['isFraud']\n",
    "feature_names = X.columns.tolist() # 컬럼을 리스트화\n",
    "Train_X, Test_X, Train_Y, Test_Y = train_test_split(X, Y, test_size = 0.1, random_state = 13,\n",
    "                                                    shuffle= False)\n",
    "\n",
    "rus = usam.RandomUnderSampler()\n",
    "undersampled_X, undersampled_Y = rus.fit_sample(Train_X, Train_Y)\n",
    "model = RandomForestClassifier(n_estimators = 200, max_depth = 10, random_state = 13).fit(undersampled_X, undersampled_Y)\n",
    "predicted = model.predict(Test_X)\n",
    "print (roc_auc_score(Test_Y, predicted))"
   ]
  },
  {
   "cell_type": "code",
   "execution_count": 69,
   "metadata": {},
   "outputs": [],
   "source": [
    "from sklearn.externals import joblib\n",
    "joblib.dump(model, 'under_sampling_model.pkl')\n",
    "model = joblib.load('under_sampling_model.pkl') "
   ]
  },
  {
   "cell_type": "code",
   "execution_count": 71,
   "metadata": {},
   "outputs": [],
   "source": [
    "def data_processing(data):\n",
    "    train_sample = data[['C1', 'C2', 'C3', 'C4', 'C5', 'C6', 'C7', \n",
    "           'C8', 'C9', 'C10', 'C11','C12', 'C13', 'C14','D1',\n",
    "\n",
    "           'V95','V96','V97', 'V98', 'V99', 'V100', 'V101', 'V102', 'V103', 'V104', 'V105',\n",
    "           'V106', 'V107', 'V108', 'V109', 'V110', 'V111', 'V112', 'V113', 'V114',\n",
    "           'V115', 'V116', 'V117', 'V118', 'V119', 'V120', 'V121', 'V122', 'V123',\n",
    "           'V124', 'V125', 'V126', 'V127', 'V128', 'V129', 'V130', 'V131', 'V132','V133', 'V134', 'V135', 'V136','V137',\n",
    "\n",
    "           'V280','V284', 'V285', 'V286', 'V287', 'V290', 'V291', 'V292',\n",
    "           'V293', 'V294', 'V295', 'V297', 'V298', 'V299', 'V303', 'V304', 'V305', 'V306']]\n",
    "    sample = train_sample.fillna(train_sample.mean())\n",
    "    return sample"
   ]
  },
  {
   "cell_type": "code",
   "execution_count": 75,
   "metadata": {},
   "outputs": [
    {
     "data": {
      "text/plain": [
       "506691"
      ]
     },
     "execution_count": 75,
     "metadata": {},
     "output_type": "execute_result"
    }
   ],
   "source": [
    "test_sample = data_processing(test_tran)\n",
    "len (test_sample)"
   ]
  },
  {
   "cell_type": "code",
   "execution_count": 76,
   "metadata": {},
   "outputs": [
    {
     "data": {
      "text/html": [
       "<div>\n",
       "<style scoped>\n",
       "    .dataframe tbody tr th:only-of-type {\n",
       "        vertical-align: middle;\n",
       "    }\n",
       "\n",
       "    .dataframe tbody tr th {\n",
       "        vertical-align: top;\n",
       "    }\n",
       "\n",
       "    .dataframe thead th {\n",
       "        text-align: right;\n",
       "    }\n",
       "</style>\n",
       "<table border=\"1\" class=\"dataframe\">\n",
       "  <thead>\n",
       "    <tr style=\"text-align: right;\">\n",
       "      <th></th>\n",
       "      <th>C1</th>\n",
       "      <th>C2</th>\n",
       "      <th>C3</th>\n",
       "      <th>C4</th>\n",
       "      <th>C5</th>\n",
       "      <th>C6</th>\n",
       "      <th>C7</th>\n",
       "      <th>C8</th>\n",
       "      <th>C9</th>\n",
       "      <th>C10</th>\n",
       "      <th>...</th>\n",
       "      <th>V293</th>\n",
       "      <th>V294</th>\n",
       "      <th>V295</th>\n",
       "      <th>V297</th>\n",
       "      <th>V298</th>\n",
       "      <th>V299</th>\n",
       "      <th>V303</th>\n",
       "      <th>V304</th>\n",
       "      <th>V305</th>\n",
       "      <th>V306</th>\n",
       "    </tr>\n",
       "  </thead>\n",
       "  <tbody>\n",
       "    <tr>\n",
       "      <th>0</th>\n",
       "      <td>6.0</td>\n",
       "      <td>6.0</td>\n",
       "      <td>0.0</td>\n",
       "      <td>0.0</td>\n",
       "      <td>3.0</td>\n",
       "      <td>4.0</td>\n",
       "      <td>0.0</td>\n",
       "      <td>0.0</td>\n",
       "      <td>6.0</td>\n",
       "      <td>0.0</td>\n",
       "      <td>...</td>\n",
       "      <td>0.0</td>\n",
       "      <td>0.0</td>\n",
       "      <td>0.0</td>\n",
       "      <td>0.0</td>\n",
       "      <td>0.0</td>\n",
       "      <td>0.0</td>\n",
       "      <td>0.0</td>\n",
       "      <td>0.0</td>\n",
       "      <td>1.0</td>\n",
       "      <td>0.0</td>\n",
       "    </tr>\n",
       "  </tbody>\n",
       "</table>\n",
       "<p>1 rows × 76 columns</p>\n",
       "</div>"
      ],
      "text/plain": [
       "    C1   C2   C3   C4   C5   C6   C7   C8   C9  C10  ...  V293  V294  V295  \\\n",
       "0  6.0  6.0  0.0  0.0  3.0  4.0  0.0  0.0  6.0  0.0  ...   0.0   0.0   0.0   \n",
       "\n",
       "   V297  V298  V299  V303  V304  V305  V306  \n",
       "0   0.0   0.0   0.0   0.0   0.0   1.0   0.0  \n",
       "\n",
       "[1 rows x 76 columns]"
      ]
     },
     "execution_count": 76,
     "metadata": {},
     "output_type": "execute_result"
    }
   ],
   "source": [
    "test_sample.head(1)"
   ]
  },
  {
   "cell_type": "code",
   "execution_count": 77,
   "metadata": {},
   "outputs": [],
   "source": [
    "predicted = model.predict(test_sample)"
   ]
  },
  {
   "cell_type": "code",
   "execution_count": 78,
   "metadata": {},
   "outputs": [
    {
     "data": {
      "text/plain": [
       "506691"
      ]
     },
     "execution_count": 78,
     "metadata": {},
     "output_type": "execute_result"
    }
   ],
   "source": [
    "dic = {'TransactionID':test_tran['TransactionID'],\n",
    "       'isFraud':predicted}\n",
    "submission = pd.DataFrame(dic)\n",
    "len (submission)"
   ]
  },
  {
   "cell_type": "code",
   "execution_count": 79,
   "metadata": {},
   "outputs": [],
   "source": [
    "submission.to_csv('submission.csv', index = False)"
   ]
  },
  {
   "cell_type": "code",
   "execution_count": null,
   "metadata": {},
   "outputs": [],
   "source": []
  }
 ],
 "metadata": {
  "kernelspec": {
   "display_name": "Python 3",
   "language": "python",
   "name": "python3"
  },
  "language_info": {
   "codemirror_mode": {
    "name": "ipython",
    "version": 3
   },
   "file_extension": ".py",
   "mimetype": "text/x-python",
   "name": "python",
   "nbconvert_exporter": "python",
   "pygments_lexer": "ipython3",
   "version": "3.7.3"
  }
 },
 "nbformat": 4,
 "nbformat_minor": 2
}
