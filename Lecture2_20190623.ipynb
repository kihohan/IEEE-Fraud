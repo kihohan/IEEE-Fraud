{
 "cells": [
  {
   "cell_type": "markdown",
   "metadata": {},
   "source": [
    "# Lecture 2"
   ]
  },
  {
   "cell_type": "markdown",
   "metadata": {},
   "source": [
    "## Topic 1> 시계열 데이터 변환"
   ]
  },
  {
   "cell_type": "markdown",
   "metadata": {},
   "source": [
    "###   시계열 --> 지도학습용 2D 데이터"
   ]
  },
  {
   "cell_type": "code",
   "execution_count": null,
   "metadata": {},
   "outputs": [],
   "source": [
    "# 기본적으로 8개 -> (일변량 or 다변량) x (일변량 or 다변량) x 예측구간(하루 or 하루이상)\n",
    "# 데이터를 목적에 맞게 변환하는 방법학습\n",
    "# 패키지에서 필요한거만 불러오면 -> 메모리x / 네이밍 "
   ]
  },
  {
   "cell_type": "code",
   "execution_count": 1,
   "metadata": {},
   "outputs": [],
   "source": [
    "# univariate time series -> supervised learning problem \n",
    "# 일변량 1기간 예측\n",
    "from numpy import array\n",
    "\n",
    "# split a univariate sequence into samples \n",
    "# ex) x1, x2, x3, y\n",
    "#      1,  2,  3, 4\n",
    "def split_sequence(sequence, n_steps): #sequence: 데이터 n_steps: 구간\n",
    "    X, y = list(), list() \n",
    "    for i in range(len(sequence)): \n",
    "        # find the end of this pattern \n",
    "        end_ix = i + n_steps \n",
    "        # check if we are beyond the sequence \n",
    "        if end_ix > len(sequence)-1: \n",
    "            break \n",
    "        # gather input and output parts of the pattern \n",
    "        seq_x, seq_y = sequence[i:end_ix], sequence[end_ix] \n",
    "        X.append(seq_x) \n",
    "        y.append(seq_y)\n",
    "    return array(X), array(y)"
   ]
  },
  {
   "cell_type": "code",
   "execution_count": 11,
   "metadata": {},
   "outputs": [
    {
     "name": "stdout",
     "output_type": "stream",
     "text": [
      "series.shape: (10,)\n",
      "-------------------------\n",
      "X.shape, y.shape: (7, 3) (7,)\n",
      "-------------------------\n",
      "X[i] | y[i]: [1 2 3] | 4\n",
      "X[i] | y[i]: [2 3 4] | 5\n",
      "X[i] | y[i]: [3 4 5] | 6\n",
      "X[i] | y[i]: [4 5 6] | 7\n",
      "X[i] | y[i]: [5 6 7] | 8\n",
      "X[i] | y[i]: [6 7 8] | 9\n",
      "X[i] | y[i]: [7 8 9] | 10\n"
     ]
    }
   ],
   "source": [
    "# define univariate time series \n",
    "series = array([1, 2, 3, 4, 5, 6, 7, 8, 9, 10]) \n",
    "print('series.shape:',series.shape)\n",
    "print ('-------------------------')\n",
    "\n",
    "# transform to a supervised learning problem \n",
    "X, y = split_sequence(series, 3) \n",
    "print('X.shape, y.shape:',X.shape, y.shape) \n",
    "print ('-------------------------')\n",
    "# show each sample \n",
    "for i in range(len(X)): \n",
    "    print('X[i] | y[i]:',X[i],'|', y[i])"
   ]
  },
  {
   "cell_type": "markdown",
   "metadata": {},
   "source": [
    "### 2D 데이터 --> 3D 데이터"
   ]
  },
  {
   "cell_type": "code",
   "execution_count": 18,
   "metadata": {},
   "outputs": [],
   "source": [
    "# transform univariate 2d to 3d \n",
    "# 일변량 1기간 예측\n",
    "from numpy import array\n",
    "\n",
    "# split a univariate sequence into samples \n",
    "def split_sequence(sequence, n_steps): \n",
    "    X, y = list(), list() \n",
    "    for i in range(len(sequence)): \n",
    "        # find the end of this pattern \n",
    "        end_ix = i + n_steps \n",
    "        # check if we are beyond the sequence \n",
    "        if end_ix > len(sequence)-1: \n",
    "            break \n",
    "        # gather input and output parts of the pattern \n",
    "        seq_x, seq_y = sequence[i:end_ix], sequence[end_ix] \n",
    "        X.append(seq_x) \n",
    "        y.append(seq_y) \n",
    "    return array(X), array(y)"
   ]
  },
  {
   "cell_type": "code",
   "execution_count": 20,
   "metadata": {},
   "outputs": [
    {
     "name": "stdout",
     "output_type": "stream",
     "text": [
      "series.shape: (10,)\n",
      "-------------------------\n",
      "X.shape | y.shape: (7, 3) | (7,)\n",
      "-------------------------\n",
      "X.shape: (7, 3, 1)\n"
     ]
    }
   ],
   "source": [
    "# define univariate time series \n",
    "series = array([1, 2, 3, 4, 5, 6, 7, 8, 9, 10]) \n",
    "print('series.shape:',series.shape) \n",
    "print ('-------------------------')\n",
    "# transform to a supervised learning problem \n",
    "X, y = split_sequence(series, 3) \n",
    "print('X.shape | y.shape:',X.shape,'|', y.shape) \n",
    "print ('-------------------------')\n",
    "# transform input from [samples, features] to [samples, timesteps, features] \n",
    "X = X.reshape((X.shape[0], X.shape[1], 1)) #2d -> 3d로 변환\n",
    "print('X.shape:', X.shape)"
   ]
  },
  {
   "cell_type": "markdown",
   "metadata": {},
   "source": [
    "### 적용 사례"
   ]
  },
  {
   "cell_type": "code",
   "execution_count": 27,
   "metadata": {},
   "outputs": [
    {
     "name": "stdout",
     "output_type": "stream",
     "text": [
      "[[ 1 10]\n",
      " [ 2 20]\n",
      " [ 3 30]\n",
      " [ 4 40]\n",
      " [ 5 50]]\n",
      "-------------------------\n",
      "data.shape: (5000, 2)\n"
     ]
    }
   ],
   "source": [
    "# load time series dataset\n",
    "import pandas as pd\n",
    "location = \"/Users/hankiho/Downloads/Python으로 배우는 딥러닝 시계열 예측(고급)/Week_01/AdvancedDeepLearningTSF/Data/Sales.csv\" \n",
    "series = pd.read_csv(location, header=0)\n",
    "\n",
    "# numpy array로 전환\n",
    "import numpy as np\n",
    "data = np.array(series)\n",
    "print(data[:5, :])\n",
    "print ('-------------------------')\n",
    "print('data.shape:',data.shape)"
   ]
  },
  {
   "cell_type": "code",
   "execution_count": 28,
   "metadata": {},
   "outputs": [
    {
     "name": "stdout",
     "output_type": "stream",
     "text": [
      "data.shape: (5000,)\n"
     ]
    }
   ],
   "source": [
    "# drop time \n",
    "data = data[:, 1] \n",
    "print('data.shape:',data.shape)"
   ]
  },
  {
   "cell_type": "code",
   "execution_count": 29,
   "metadata": {},
   "outputs": [
    {
     "name": "stdout",
     "output_type": "stream",
     "text": [
      "len: 25\n"
     ]
    }
   ],
   "source": [
    "# split into samples (e.g. 5000/200 = 25) \n",
    "n = len(data)\n",
    "samples = list() \n",
    "length = 200 \n",
    "# step over the 5,000 in jumps of 200 \n",
    "for i in range(0,n,length): \n",
    "    # grab from i to i + 200 \n",
    "    sample = data[i:i+length] \n",
    "    samples.append(sample) \n",
    "print('len:',len(samples))"
   ]
  },
  {
   "cell_type": "code",
   "execution_count": 30,
   "metadata": {},
   "outputs": [
    {
     "name": "stdout",
     "output_type": "stream",
     "text": [
      "data.shape: (25, 200, 1)\n"
     ]
    }
   ],
   "source": [
    "# convert list of arrays into 3d array \n",
    "data = array(samples) \n",
    "# reshape into [samples, timesteps, features] \n",
    "data = data.reshape((len(samples), length, 1)) \n",
    "print('data.shape:',data.shape)"
   ]
  },
  {
   "cell_type": "code",
   "execution_count": 20,
   "metadata": {},
   "outputs": [
    {
     "data": {
      "text/plain": [
       "array([[  10],\n",
       "       [  20],\n",
       "       [  30],\n",
       "       [  40],\n",
       "       [  50],\n",
       "       [  60],\n",
       "       [  70],\n",
       "       [  80],\n",
       "       [  90],\n",
       "       [ 100],\n",
       "       [ 110],\n",
       "       [ 120],\n",
       "       [ 130],\n",
       "       [ 140],\n",
       "       [ 150],\n",
       "       [ 160],\n",
       "       [ 170],\n",
       "       [ 180],\n",
       "       [ 190],\n",
       "       [ 200],\n",
       "       [ 210],\n",
       "       [ 220],\n",
       "       [ 230],\n",
       "       [ 240],\n",
       "       [ 250],\n",
       "       [ 260],\n",
       "       [ 270],\n",
       "       [ 280],\n",
       "       [ 290],\n",
       "       [ 300],\n",
       "       [ 310],\n",
       "       [ 320],\n",
       "       [ 330],\n",
       "       [ 340],\n",
       "       [ 350],\n",
       "       [ 360],\n",
       "       [ 370],\n",
       "       [ 380],\n",
       "       [ 390],\n",
       "       [ 400],\n",
       "       [ 410],\n",
       "       [ 420],\n",
       "       [ 430],\n",
       "       [ 440],\n",
       "       [ 450],\n",
       "       [ 460],\n",
       "       [ 470],\n",
       "       [ 480],\n",
       "       [ 490],\n",
       "       [ 500],\n",
       "       [ 510],\n",
       "       [ 520],\n",
       "       [ 530],\n",
       "       [ 540],\n",
       "       [ 550],\n",
       "       [ 560],\n",
       "       [ 570],\n",
       "       [ 580],\n",
       "       [ 590],\n",
       "       [ 600],\n",
       "       [ 610],\n",
       "       [ 620],\n",
       "       [ 630],\n",
       "       [ 640],\n",
       "       [ 650],\n",
       "       [ 660],\n",
       "       [ 670],\n",
       "       [ 680],\n",
       "       [ 690],\n",
       "       [ 700],\n",
       "       [ 710],\n",
       "       [ 720],\n",
       "       [ 730],\n",
       "       [ 740],\n",
       "       [ 750],\n",
       "       [ 760],\n",
       "       [ 770],\n",
       "       [ 780],\n",
       "       [ 790],\n",
       "       [ 800],\n",
       "       [ 810],\n",
       "       [ 820],\n",
       "       [ 830],\n",
       "       [ 840],\n",
       "       [ 850],\n",
       "       [ 860],\n",
       "       [ 870],\n",
       "       [ 880],\n",
       "       [ 890],\n",
       "       [ 900],\n",
       "       [ 910],\n",
       "       [ 920],\n",
       "       [ 930],\n",
       "       [ 940],\n",
       "       [ 950],\n",
       "       [ 960],\n",
       "       [ 970],\n",
       "       [ 980],\n",
       "       [ 990],\n",
       "       [1000],\n",
       "       [1010],\n",
       "       [1020],\n",
       "       [1030],\n",
       "       [1040],\n",
       "       [1050],\n",
       "       [1060],\n",
       "       [1070],\n",
       "       [1080],\n",
       "       [1090],\n",
       "       [1100],\n",
       "       [1110],\n",
       "       [1120],\n",
       "       [1130],\n",
       "       [1140],\n",
       "       [1150],\n",
       "       [1160],\n",
       "       [1170],\n",
       "       [1180],\n",
       "       [1190],\n",
       "       [1200],\n",
       "       [1210],\n",
       "       [1220],\n",
       "       [1230],\n",
       "       [1240],\n",
       "       [1250],\n",
       "       [1260],\n",
       "       [1270],\n",
       "       [1280],\n",
       "       [1290],\n",
       "       [1300],\n",
       "       [1310],\n",
       "       [1320],\n",
       "       [1330],\n",
       "       [1340],\n",
       "       [1350],\n",
       "       [1360],\n",
       "       [1370],\n",
       "       [1380],\n",
       "       [1390],\n",
       "       [1400],\n",
       "       [1410],\n",
       "       [1420],\n",
       "       [1430],\n",
       "       [1440],\n",
       "       [1450],\n",
       "       [1460],\n",
       "       [1470],\n",
       "       [1480],\n",
       "       [1490],\n",
       "       [1500],\n",
       "       [1510],\n",
       "       [1520],\n",
       "       [1530],\n",
       "       [1540],\n",
       "       [1550],\n",
       "       [1560],\n",
       "       [1570],\n",
       "       [1580],\n",
       "       [1590],\n",
       "       [1600],\n",
       "       [1610],\n",
       "       [1620],\n",
       "       [1630],\n",
       "       [1640],\n",
       "       [1650],\n",
       "       [1660],\n",
       "       [1670],\n",
       "       [1680],\n",
       "       [1690],\n",
       "       [1700],\n",
       "       [1710],\n",
       "       [1720],\n",
       "       [1730],\n",
       "       [1740],\n",
       "       [1750],\n",
       "       [1760],\n",
       "       [1770],\n",
       "       [1780],\n",
       "       [1790],\n",
       "       [1800],\n",
       "       [1810],\n",
       "       [1820],\n",
       "       [1830],\n",
       "       [1840],\n",
       "       [1850],\n",
       "       [1860],\n",
       "       [1870],\n",
       "       [1880],\n",
       "       [1890],\n",
       "       [1900],\n",
       "       [1910],\n",
       "       [1920],\n",
       "       [1930],\n",
       "       [1940],\n",
       "       [1950],\n",
       "       [1960],\n",
       "       [1970],\n",
       "       [1980],\n",
       "       [1990],\n",
       "       [2000]], dtype=int64)"
      ]
     },
     "execution_count": 20,
     "metadata": {},
     "output_type": "execute_result"
    }
   ],
   "source": [
    "data[0,:,:]"
   ]
  },
  {
   "cell_type": "markdown",
   "metadata": {},
   "source": [
    "## Topic 2> MLP 시계열 모형"
   ]
  },
  {
   "cell_type": "markdown",
   "metadata": {},
   "source": [
    "### Univariate MLP Model"
   ]
  },
  {
   "cell_type": "code",
   "execution_count": 35,
   "metadata": {},
   "outputs": [
    {
     "name": "stderr",
     "output_type": "stream",
     "text": [
      "Using TensorFlow backend.\n"
     ]
    }
   ],
   "source": [
    "# univariate mlp example\n",
    "# 복잡하지않는 시계열 데이터에 적합하다.\n",
    "# MLP는 3차원으로 전환할 필요가 없다.\n",
    "from numpy import array\n",
    "from keras.models import Sequential\n",
    "from keras.layers import Dense\n",
    "\n",
    "# split a univariate sequence into samples\n",
    "def split_sequence(sequence, n_steps):\n",
    "    X, y = list(), list()\n",
    "    for i in range(len(sequence)):\n",
    "        # find the end of this pattern\n",
    "        end_ix = i + n_steps\n",
    "        # check if we are beyond the sequence\n",
    "        if end_ix > len(sequence)-1:\n",
    "            break\n",
    "        # gather input and output parts of the pattern\n",
    "        seq_x, seq_y = sequence[i:end_ix], sequence[end_ix]\n",
    "        X.append(seq_x)\n",
    "        y.append(seq_y)\n",
    "    return array(X), array(y)"
   ]
  },
  {
   "cell_type": "code",
   "execution_count": 45,
   "metadata": {},
   "outputs": [
    {
     "name": "stdout",
     "output_type": "stream",
     "text": [
      "yhat: [[101.99584]]\n"
     ]
    }
   ],
   "source": [
    "# define input sequence\n",
    "raw_seq = [10, 20, 30, 40, 50, 60, 70, 80, 90]\n",
    "# choose a number of time steps\n",
    "n_steps = 3\n",
    "\n",
    "# split into samples\n",
    "X, y = split_sequence(raw_seq, n_steps)\n",
    "# define model\n",
    "model = Sequential()\n",
    "model.add(Dense(100, activation='relu', input_dim=n_steps))\n",
    "model.add(Dense(1))\n",
    "model.compile(optimizer='adam', loss='mse')\n",
    "\n",
    "# fit model\n",
    "model.fit(X, y, epochs=2000, verbose=0) # verbose=0 학습 결과가 안나오게함\n",
    "\n",
    "# demonstrate prediction\n",
    "x_input = array([70, 80, 90])\n",
    "x_input = x_input.reshape((1, n_steps))\n",
    "yhat = model.predict(x_input, verbose=0)\n",
    "\n",
    "print('yhat:',yhat) # 시드가 고정이 안되있어서 값이 계속 바뀜."
   ]
  },
  {
   "cell_type": "markdown",
   "metadata": {},
   "source": [
    "### Multivariate MLP Modles"
   ]
  },
  {
   "cell_type": "markdown",
   "metadata": {},
   "source": [
    "#### Multiple Input Series"
   ]
  },
  {
   "cell_type": "code",
   "execution_count": null,
   "metadata": {},
   "outputs": [],
   "source": [
    "# Multiple Input Series: 둘 이상의 병렬적 입력 시계열과 하나의 출력 시계열로 구성\n",
    "# (출력 시계열은 입력 시계열과 연관되어 있음)"
   ]
  },
  {
   "cell_type": "code",
   "execution_count": 47,
   "metadata": {},
   "outputs": [],
   "source": [
    "# multivariate mlp example\n",
    "from numpy import array\n",
    "from numpy import hstack\n",
    "from keras.models import Sequential\n",
    "from keras.layers import Dense"
   ]
  },
  {
   "cell_type": "code",
   "execution_count": 48,
   "metadata": {},
   "outputs": [],
   "source": [
    "# split a multivariate sequence into samples\n",
    "def split_sequences(sequences, n_steps):\n",
    "    X, y = list(), list()\n",
    "    for i in range(len(sequences)):\n",
    "        # find the end of this pattern\n",
    "        end_ix = i + n_steps\n",
    "        # check if we are beyond the dataset\n",
    "        if end_ix > len(sequences):\n",
    "            break\n",
    "        # gather input and output parts of the pattern\n",
    "        seq_x, seq_y = sequences[i:end_ix, :-1], sequences[end_ix-1, -1]\n",
    "        X.append(seq_x)\n",
    "        y.append(seq_y)\n",
    "    return array(X), array(y)"
   ]
  },
  {
   "cell_type": "code",
   "execution_count": 49,
   "metadata": {},
   "outputs": [],
   "source": [
    "# define input sequence\n",
    "in_seq1 = array([10, 20, 30, 40, 50, 60, 70, 80, 90])\n",
    "in_seq2 = array([15, 25, 35, 45, 55, 65, 75, 85, 95])\n",
    "out_seq = array([in_seq1[i]+in_seq2[i] for i in range(len(in_seq1))])\n",
    "# convert to [rows, columns] structure\n",
    "in_seq1 = in_seq1.reshape((len(in_seq1), 1))\n",
    "in_seq2 = in_seq2.reshape((len(in_seq2), 1))\n",
    "out_seq = out_seq.reshape((len(out_seq), 1))\n",
    "# horizontally stack columns\n",
    "dataset = hstack((in_seq1, in_seq2, out_seq))"
   ]
  },
  {
   "cell_type": "code",
   "execution_count": 4,
   "metadata": {},
   "outputs": [
    {
     "name": "stdout",
     "output_type": "stream",
     "text": [
      "[[ 10  15  25]\n",
      " [ 20  25  45]\n",
      " [ 30  35  65]\n",
      " [ 40  45  85]\n",
      " [ 50  55 105]\n",
      " [ 60  65 125]\n",
      " [ 70  75 145]\n",
      " [ 80  85 165]\n",
      " [ 90  95 185]]\n"
     ]
    }
   ],
   "source": [
    "print(dataset)"
   ]
  },
  {
   "cell_type": "code",
   "execution_count": 56,
   "metadata": {},
   "outputs": [],
   "source": [
    "# choose a number of time steps\n",
    "n_steps = 3\n",
    "# convert into input/output\n",
    "X, y = split_sequences(dataset, n_steps)"
   ]
  },
  {
   "cell_type": "code",
   "execution_count": 57,
   "metadata": {},
   "outputs": [
    {
     "name": "stdout",
     "output_type": "stream",
     "text": [
      "(7, 3, 2) (7,)\n"
     ]
    }
   ],
   "source": [
    "print(X.shape, y.shape)"
   ]
  },
  {
   "cell_type": "code",
   "execution_count": 60,
   "metadata": {},
   "outputs": [
    {
     "name": "stdout",
     "output_type": "stream",
     "text": [
      "[[10 15]\n",
      " [20 25]\n",
      " [30 35]] 65\n",
      "[[20 25]\n",
      " [30 35]\n",
      " [40 45]] 85\n",
      "[[30 35]\n",
      " [40 45]\n",
      " [50 55]] 105\n",
      "[[40 45]\n",
      " [50 55]\n",
      " [60 65]] 125\n",
      "[[50 55]\n",
      " [60 65]\n",
      " [70 75]] 145\n",
      "[[60 65]\n",
      " [70 75]\n",
      " [80 85]] 165\n",
      "[[70 75]\n",
      " [80 85]\n",
      " [90 95]] 185\n"
     ]
    }
   ],
   "source": [
    "# summarize the data\n",
    "for i in range(len(X)):\n",
    "    print(X[i], y[i])"
   ]
  },
  {
   "cell_type": "code",
   "execution_count": 61,
   "metadata": {},
   "outputs": [],
   "source": [
    "# flatten input: 여러개의 백터를 한 백터로 나타내준다.\n",
    "n_input = X.shape[1] * X.shape[2] #백터의 길이\n",
    "X = X.reshape((X.shape[0], n_input))"
   ]
  },
  {
   "cell_type": "code",
   "execution_count": 62,
   "metadata": {},
   "outputs": [
    {
     "name": "stdout",
     "output_type": "stream",
     "text": [
      "[[10 15 20 25 30 35]\n",
      " [20 25 30 35 40 45]\n",
      " [30 35 40 45 50 55]\n",
      " [40 45 50 55 60 65]\n",
      " [50 55 60 65 70 75]\n",
      " [60 65 70 75 80 85]\n",
      " [70 75 80 85 90 95]]\n"
     ]
    }
   ],
   "source": [
    "print(X)"
   ]
  },
  {
   "cell_type": "code",
   "execution_count": 63,
   "metadata": {},
   "outputs": [],
   "source": [
    "# define model\n",
    "model = Sequential()\n",
    "model.add(Dense(100, activation='relu', input_dim=n_input))\n",
    "model.add(Dense(1))\n",
    "model.compile(optimizer='adam', loss='mse')"
   ]
  },
  {
   "cell_type": "code",
   "execution_count": 64,
   "metadata": {},
   "outputs": [
    {
     "data": {
      "text/plain": [
       "<keras.callbacks.History at 0xb35dc73c8>"
      ]
     },
     "execution_count": 64,
     "metadata": {},
     "output_type": "execute_result"
    }
   ],
   "source": [
    "# fit model\n",
    "model.fit(X, y, epochs=2000, verbose=0)"
   ]
  },
  {
   "cell_type": "code",
   "execution_count": 65,
   "metadata": {},
   "outputs": [],
   "source": [
    "# demonstrate prediction\n",
    "x_input = array([[80, 85], [90, 95], [100, 105]])\n",
    "x_input = x_input.reshape((1, n_input))\n",
    "yhat = model.predict(x_input, verbose=0)"
   ]
  },
  {
   "cell_type": "code",
   "execution_count": 70,
   "metadata": {},
   "outputs": [
    {
     "name": "stdout",
     "output_type": "stream",
     "text": [
      "[[205.82436]]\n"
     ]
    }
   ],
   "source": [
    "print(yhat)"
   ]
  },
  {
   "cell_type": "markdown",
   "metadata": {},
   "source": [
    "#### Multi-headed"
   ]
  },
  {
   "cell_type": "code",
   "execution_count": null,
   "metadata": {},
   "outputs": [],
   "source": [
    "# Multi-headed: Multiple Input Series를 개선시킨 모델. (개별로 처리)"
   ]
  },
  {
   "cell_type": "code",
   "execution_count": 71,
   "metadata": {},
   "outputs": [],
   "source": [
    "# multivariate mlp example\n",
    "from numpy import array\n",
    "from numpy import hstack\n",
    "from keras.models import Model\n",
    "from keras.layers import Input\n",
    "from keras.layers import Dense\n",
    "from keras.layers.merge import concatenate"
   ]
  },
  {
   "cell_type": "code",
   "execution_count": 72,
   "metadata": {},
   "outputs": [],
   "source": [
    "# split a multivariate sequence into samples\n",
    "def split_sequences(sequences, n_steps):\n",
    "    X, y = list(), list()\n",
    "    for i in range(len(sequences)):\n",
    "        # find the end of this pattern\n",
    "        end_ix = i + n_steps\n",
    "        # check if we are beyond the dataset\n",
    "        if end_ix > len(sequences):\n",
    "            break\n",
    "        # gather input and output parts of the pattern\n",
    "        seq_x, seq_y = sequences[i:end_ix, :-1], sequences[end_ix-1, -1]\n",
    "        X.append(seq_x)\n",
    "        y.append(seq_y)\n",
    "    return array(X), array(y)"
   ]
  },
  {
   "cell_type": "code",
   "execution_count": 73,
   "metadata": {},
   "outputs": [],
   "source": [
    "# define input sequence\n",
    "in_seq1 = array([10, 20, 30, 40, 50, 60, 70, 80, 90])\n",
    "in_seq2 = array([15, 25, 35, 45, 55, 65, 75, 85, 95])\n",
    "out_seq = array([in_seq1[i]+in_seq2[i] for i in range(len(in_seq1))])\n",
    "\n",
    "# convert to [rows, columns] structure\n",
    "in_seq1 = in_seq1.reshape((len(in_seq1), 1))\n",
    "in_seq2 = in_seq2.reshape((len(in_seq2), 1))\n",
    "out_seq = out_seq.reshape((len(out_seq), 1))\n",
    "\n",
    "# horizontally stack columns\n",
    "dataset = hstack((in_seq1, in_seq2, out_seq))\n",
    "\n",
    "# choose a number of time steps\n",
    "n_steps = 3\n",
    "\n",
    "# convert into input/output\n",
    "X, y = split_sequences(dataset, n_steps)"
   ]
  },
  {
   "cell_type": "code",
   "execution_count": 74,
   "metadata": {},
   "outputs": [],
   "source": [
    "# separate input data\n",
    "X1 = X[:, :, 0]\n",
    "X2 = X[:, :, 1]"
   ]
  },
  {
   "cell_type": "code",
   "execution_count": 81,
   "metadata": {},
   "outputs": [
    {
     "data": {
      "text/plain": [
       "<keras.callbacks.History at 0xb365c25c0>"
      ]
     },
     "execution_count": 81,
     "metadata": {},
     "output_type": "execute_result"
    }
   ],
   "source": [
    "# first input model\n",
    "visible1 = Input(shape=(n_steps,))\n",
    "dense1 = Dense(100, activation='relu')(visible1)\n",
    "\n",
    "# second input model\n",
    "visible2 = Input(shape=(n_steps,))\n",
    "dense2 = Dense(100, activation='relu')(visible2)\n",
    "\n",
    "# merge input models\n",
    "merge = concatenate([dense1, dense2])\n",
    "output = Dense(1)(merge)\n",
    "model = Model(inputs=[visible1, visible2], outputs=output)\n",
    "model.compile(optimizer='adam', loss='mse')\n",
    "\n",
    "# fit model\n",
    "model.fit([X1, X2], y, epochs=2000, verbose=0)"
   ]
  },
  {
   "cell_type": "code",
   "execution_count": 90,
   "metadata": {},
   "outputs": [
    {
     "name": "stdout",
     "output_type": "stream",
     "text": [
      "[[205.41597]]\n"
     ]
    }
   ],
   "source": [
    "# demonstrate prediction\n",
    "x_input = array([[80, 85], [90, 95], [100, 105]])\n",
    "x1 = x_input[:, 0].reshape((1, n_steps))\n",
    "x2 = x_input[:, 1].reshape((1, n_steps))\n",
    "yhat = model.predict([x1, x2], verbose=0)\n",
    "print(yhat)"
   ]
  },
  {
   "cell_type": "markdown",
   "metadata": {},
   "source": [
    "#### Multiple Pararell Series"
   ]
  },
  {
   "cell_type": "code",
   "execution_count": 100,
   "metadata": {},
   "outputs": [],
   "source": [
    "# Multiple Parallel Series: 다수의 병렬적시계열이 존재하고 각 시계열에 대해값을 예측"
   ]
  },
  {
   "cell_type": "code",
   "execution_count": 1,
   "metadata": {},
   "outputs": [
    {
     "name": "stderr",
     "output_type": "stream",
     "text": [
      "Using TensorFlow backend.\n"
     ]
    }
   ],
   "source": [
    "# multivariate output mlp example \n",
    "from numpy import array \n",
    "from numpy import hstack \n",
    "from keras.models import Sequential \n",
    "from keras.layers import Dense"
   ]
  },
  {
   "cell_type": "code",
   "execution_count": 91,
   "metadata": {},
   "outputs": [],
   "source": [
    "# split a multivariate sequence into samples \n",
    "def split_sequences(sequences, n_steps): \n",
    "    X, y = list(), list() \n",
    "    for i in range(len(sequences)): \n",
    "        # find the end of this pattern \n",
    "        end_ix = i + n_steps \n",
    "        # check if we are beyond the dataset \n",
    "        if end_ix > len(sequences)-1: \n",
    "            break \n",
    "        # gather input and output parts of the pattern \n",
    "        seq_x, seq_y = sequences[i:end_ix, :], sequences[end_ix, :] # 이 부분이 다름\n",
    "        X.append(seq_x) \n",
    "        y.append(seq_y) \n",
    "    return array(X), array(y)"
   ]
  },
  {
   "cell_type": "code",
   "execution_count": 92,
   "metadata": {},
   "outputs": [],
   "source": [
    "# define input sequence \n",
    "in_seq1 = array([10, 20, 30, 40, 50, 60, 70, 80, 90]) \n",
    "in_seq2 = array([15, 25, 35, 45, 55, 65, 75, 85, 95]) \n",
    "out_seq = array([in_seq1[i]+in_seq2[i] for i in range(len(in_seq1))]) \n",
    "# convert to [rows, columns] structure \n",
    "in_seq1 = in_seq1.reshape((len(in_seq1), 1)) \n",
    "in_seq2 = in_seq2.reshape((len(in_seq2), 1)) \n",
    "out_seq = out_seq.reshape((len(out_seq), 1)) \n",
    "# horizontally stack columns \n",
    "dataset = hstack((in_seq1, in_seq2, out_seq)) \n",
    "# choose a number of time steps \n",
    "n_steps = 3 \n",
    "# convert into input/output \n",
    "X, y = split_sequences(dataset, n_steps) "
   ]
  },
  {
   "cell_type": "code",
   "execution_count": 93,
   "metadata": {},
   "outputs": [
    {
     "name": "stdout",
     "output_type": "stream",
     "text": [
      "(6, 3, 3) (6, 3)\n"
     ]
    }
   ],
   "source": [
    "print(X.shape, y.shape) "
   ]
  },
  {
   "cell_type": "code",
   "execution_count": 94,
   "metadata": {},
   "outputs": [
    {
     "name": "stdout",
     "output_type": "stream",
     "text": [
      "[[10 15 25]\n",
      " [20 25 45]\n",
      " [30 35 65]] [40 45 85]\n",
      "[[20 25 45]\n",
      " [30 35 65]\n",
      " [40 45 85]] [ 50  55 105]\n",
      "[[ 30  35  65]\n",
      " [ 40  45  85]\n",
      " [ 50  55 105]] [ 60  65 125]\n",
      "[[ 40  45  85]\n",
      " [ 50  55 105]\n",
      " [ 60  65 125]] [ 70  75 145]\n",
      "[[ 50  55 105]\n",
      " [ 60  65 125]\n",
      " [ 70  75 145]] [ 80  85 165]\n",
      "[[ 60  65 125]\n",
      " [ 70  75 145]\n",
      " [ 80  85 165]] [ 90  95 185]\n"
     ]
    }
   ],
   "source": [
    "# summarize the data \n",
    "for i in range(len(X)): \n",
    "    print(X[i], y[i])"
   ]
  },
  {
   "cell_type": "code",
   "execution_count": 95,
   "metadata": {},
   "outputs": [],
   "source": [
    "# flatten input \n",
    "n_input = X.shape[1] * X.shape[2] \n",
    "X = X.reshape((X.shape[0], n_input)) \n",
    "n_output = y.shape[1] "
   ]
  },
  {
   "cell_type": "code",
   "execution_count": 96,
   "metadata": {},
   "outputs": [
    {
     "name": "stdout",
     "output_type": "stream",
     "text": [
      "(6, 9) (6, 3)\n"
     ]
    }
   ],
   "source": [
    "print(X.shape, y.shape) "
   ]
  },
  {
   "cell_type": "code",
   "execution_count": 97,
   "metadata": {},
   "outputs": [
    {
     "name": "stdout",
     "output_type": "stream",
     "text": [
      "[10 15 25 20 25 45 30 35 65] [40 45 85]\n",
      "[20 25 45 30 35 65 40 45 85] [ 50  55 105]\n",
      "[ 30  35  65  40  45  85  50  55 105] [ 60  65 125]\n",
      "[ 40  45  85  50  55 105  60  65 125] [ 70  75 145]\n",
      "[ 50  55 105  60  65 125  70  75 145] [ 80  85 165]\n",
      "[ 60  65 125  70  75 145  80  85 165] [ 90  95 185]\n"
     ]
    }
   ],
   "source": [
    "# summarize the data \n",
    "for i in range(len(X)): \n",
    "    print(X[i], y[i])"
   ]
  },
  {
   "cell_type": "code",
   "execution_count": 98,
   "metadata": {},
   "outputs": [],
   "source": [
    "# define model \n",
    "model = Sequential() \n",
    "model.add(Dense(100, activation='relu', input_dim=n_input)) \n",
    "model.add(Dense(n_output)) \n",
    "model.compile(optimizer='adam', loss='mse') \n",
    "# fit model \n",
    "model.fit(X, y, epochs=2000, verbose=0) \n",
    "# demonstrate prediction \n",
    "x_input = array([[70,75,145], [80,85,165], [90,95,185]]) \n",
    "x_input = x_input.reshape((1, n_input)) \n",
    "yhat = model.predict(x_input, verbose=0) "
   ]
  },
  {
   "cell_type": "code",
   "execution_count": 99,
   "metadata": {},
   "outputs": [
    {
     "name": "stdout",
     "output_type": "stream",
     "text": [
      "[[101.07385 106.40147 206.32042]]\n"
     ]
    }
   ],
   "source": [
    "print(yhat)"
   ]
  },
  {
   "cell_type": "markdown",
   "metadata": {},
   "source": [
    "#### Multi-output"
   ]
  },
  {
   "cell_type": "code",
   "execution_count": null,
   "metadata": {},
   "outputs": [],
   "source": [
    "#Multi-output: 개별적으로 MLP 출력 모형을 만들어 각 출력 시계열을 처리함"
   ]
  },
  {
   "cell_type": "code",
   "execution_count": 12,
   "metadata": {},
   "outputs": [],
   "source": [
    "# multivariate output mlp example \n",
    "from numpy import array \n",
    "from numpy import hstack \n",
    "from keras.models import Model \n",
    "from keras.layers import Input \n",
    "from keras.layers import Dense"
   ]
  },
  {
   "cell_type": "code",
   "execution_count": 103,
   "metadata": {},
   "outputs": [],
   "source": [
    "# split a multivariate sequence into samples \n",
    "def split_sequences(sequences, n_steps): \n",
    "    X, y = list(), list() \n",
    "    for i in range(len(sequences)): \n",
    "        # find the end of this pattern \n",
    "        end_ix = i + n_steps \n",
    "        # check if we are beyond the dataset \n",
    "        if end_ix > len(sequences)-1: \n",
    "            break \n",
    "        # gather input and output parts of the pattern \n",
    "        seq_x, seq_y = sequences[i:end_ix, :], sequences[end_ix, :] \n",
    "        X.append(seq_x) \n",
    "        y.append(seq_y) \n",
    "    return array(X), array(y)\n",
    "\n",
    "# define input sequence \n",
    "in_seq1 = array([10, 20, 30, 40, 50, 60, 70, 80, 90]) \n",
    "in_seq2 = array([15, 25, 35, 45, 55, 65, 75, 85, 95]) \n",
    "out_seq = array([in_seq1[i]+in_seq2[i] for i in range(len(in_seq1))]) \n",
    "# convert to [rows, columns] structure \n",
    "in_seq1 = in_seq1.reshape((len(in_seq1), 1)) \n",
    "in_seq2 = in_seq2.reshape((len(in_seq2), 1)) \n",
    "out_seq = out_seq.reshape((len(out_seq), 1)) \n",
    "# horizontally stack columns \n",
    "dataset = hstack((in_seq1, in_seq2, out_seq)) \n",
    "# choose a number of time steps \n",
    "n_steps = 3 \n",
    "# convert into input/output \n",
    "X, y = split_sequences(dataset, n_steps) \n",
    "# flatten input \n",
    "n_input = X.shape[1] * X.shape[2]\n",
    "X = X.reshape((X.shape[0], n_input))"
   ]
  },
  {
   "cell_type": "code",
   "execution_count": 104,
   "metadata": {},
   "outputs": [],
   "source": [
    "# separate output \n",
    "y1 = y[:, 0].reshape((y.shape[0], 1)) \n",
    "y2 = y[:, 1].reshape((y.shape[0], 1)) \n",
    "y3 = y[:, 2].reshape((y.shape[0], 1)) "
   ]
  },
  {
   "cell_type": "code",
   "execution_count": 105,
   "metadata": {},
   "outputs": [],
   "source": [
    "# define model \n",
    "visible = Input(shape=(n_input,)) \n",
    "dense = Dense(100, activation='relu')(visible) "
   ]
  },
  {
   "cell_type": "code",
   "execution_count": 106,
   "metadata": {},
   "outputs": [],
   "source": [
    "# define output 1 \n",
    "output1 = Dense(1)(dense) \n",
    "# define output 2 \n",
    "output2 = Dense(1)(dense) \n",
    "# define output 3\n",
    "output3 = Dense(1)(dense) "
   ]
  },
  {
   "cell_type": "code",
   "execution_count": 107,
   "metadata": {},
   "outputs": [],
   "source": [
    "# tie together \n",
    "model = Model(inputs=visible, outputs=[output1, output2, output3])\n",
    "model.compile(optimizer='adam', loss='mse') "
   ]
  },
  {
   "cell_type": "code",
   "execution_count": 108,
   "metadata": {},
   "outputs": [
    {
     "data": {
      "text/plain": [
       "<keras.callbacks.History at 0xb36ce1dd8>"
      ]
     },
     "execution_count": 108,
     "metadata": {},
     "output_type": "execute_result"
    }
   ],
   "source": [
    "# fit model \n",
    "model.fit(X, [y1,y2,y3], epochs=2000, verbose=0) "
   ]
  },
  {
   "cell_type": "code",
   "execution_count": 109,
   "metadata": {},
   "outputs": [],
   "source": [
    "# demonstrate prediction \n",
    "x_input = array([[70,75,145], [80,85,165], [90,95,185]]) \n",
    "x_input = x_input.reshape((1, n_input)) \n",
    "yhat = model.predict(x_input, verbose=0) "
   ]
  },
  {
   "cell_type": "code",
   "execution_count": 110,
   "metadata": {},
   "outputs": [
    {
     "name": "stdout",
     "output_type": "stream",
     "text": [
      "[array([[100.69115]], dtype=float32), array([[107.55654]], dtype=float32), array([[207.86743]], dtype=float32)]\n"
     ]
    }
   ],
   "source": [
    "print(yhat)\n",
    "# 개별 개별이라 array형태로 나오는 것이다."
   ]
  },
  {
   "cell_type": "markdown",
   "metadata": {},
   "source": [
    "### Multi-step MLP Models"
   ]
  },
  {
   "cell_type": "code",
   "execution_count": null,
   "metadata": {},
   "outputs": [],
   "source": [
    "# Multi-step MLP Models: 다기간 예측"
   ]
  },
  {
   "cell_type": "code",
   "execution_count": 21,
   "metadata": {},
   "outputs": [],
   "source": [
    "# univariate multi-step vector-output mlp example \n",
    "from numpy import array \n",
    "from keras.models import Sequential \n",
    "from keras.layers import Dense"
   ]
  },
  {
   "cell_type": "code",
   "execution_count": 111,
   "metadata": {},
   "outputs": [],
   "source": [
    "# split a univariate sequence into samples \n",
    "def split_sequence(sequence, n_steps_in, n_steps_out): \n",
    "    X, y = list(), list() \n",
    "    for i in range(len(sequence)): \n",
    "        # find the end of this pattern \n",
    "        end_ix = i + n_steps_in \n",
    "        out_end_ix = end_ix + n_steps_out \n",
    "        # check if we are beyond the sequence \n",
    "        if out_end_ix > len(sequence): \n",
    "            break \n",
    "        # gather input and output parts of the pattern \n",
    "        seq_x, seq_y = sequence[i:end_ix], sequence[end_ix:out_end_ix] \n",
    "        X.append(seq_x) \n",
    "        y.append(seq_y) \n",
    "    return array(X), array(y)"
   ]
  },
  {
   "cell_type": "code",
   "execution_count": 112,
   "metadata": {},
   "outputs": [],
   "source": [
    "# define input sequence \n",
    "raw_seq = [10, 20, 30, 40, 50, 60, 70, 80, 90]\n",
    "# choose a number of time steps \n",
    "n_steps_in, n_steps_out = 3, 2 \n",
    "# split into samples \n",
    "X, y = split_sequence(raw_seq, n_steps_in, n_steps_out) "
   ]
  },
  {
   "cell_type": "code",
   "execution_count": 117,
   "metadata": {},
   "outputs": [],
   "source": [
    "# define model \n",
    "model = Sequential() \n",
    "model.add(Dense(100, activation='relu', input_dim=n_steps_in)) \n",
    "model.add(Dense(n_steps_out)) \n",
    "model.compile(optimizer='adam', loss='mse') \n",
    "# fit model \n",
    "model.fit(X, y, epochs=2000, verbose=0) \n",
    "# demonstrate prediction \n",
    "x_input = array([70, 80, 90]) \n",
    "x_input = x_input.reshape((1, n_steps_in)) \n",
    "yhat = model.predict(x_input, verbose=0)"
   ]
  },
  {
   "cell_type": "code",
   "execution_count": 118,
   "metadata": {},
   "outputs": [
    {
     "name": "stdout",
     "output_type": "stream",
     "text": [
      "[[102.51365 114.10563]]\n"
     ]
    }
   ],
   "source": [
    "print(yhat)"
   ]
  },
  {
   "cell_type": "markdown",
   "metadata": {},
   "source": [
    "### Multivariate Multi-step MLP Models"
   ]
  },
  {
   "cell_type": "markdown",
   "metadata": {},
   "source": [
    "#### Multiple Input Multi-step Output"
   ]
  },
  {
   "cell_type": "code",
   "execution_count": null,
   "metadata": {},
   "outputs": [],
   "source": [
    "# Multiple Input Multi-output: "
   ]
  },
  {
   "cell_type": "code",
   "execution_count": 1,
   "metadata": {},
   "outputs": [
    {
     "name": "stderr",
     "output_type": "stream",
     "text": [
      "Using TensorFlow backend.\n"
     ]
    }
   ],
   "source": [
    "# multivariate multi-step data preparation\n",
    "from numpy import array\n",
    "from numpy import hstack\n",
    "from keras.models import Sequential\n",
    "from keras.layers import Dense"
   ]
  },
  {
   "cell_type": "code",
   "execution_count": 119,
   "metadata": {},
   "outputs": [],
   "source": [
    "# split a multivariate sequence into samples\n",
    "def split_sequences(sequences, n_steps_in, n_steps_out):\n",
    "    X, y = list(), list()\n",
    "    for i in range(len(sequences)):\n",
    "        # find the end of this pattern\n",
    "        end_ix = i + n_steps_in\n",
    "        out_end_ix = end_ix + n_steps_out-1\n",
    "        # check if we are beyond the dataset\n",
    "        if out_end_ix > len(sequences):\n",
    "            break\n",
    "        # gather input and output parts of the pattern\n",
    "        seq_x, seq_y = sequences[i:end_ix, :-1], sequences[end_ix-1:out_end_ix, -1]\n",
    "        X.append(seq_x)\n",
    "        y.append(seq_y)\n",
    "    return array(X), array(y)"
   ]
  },
  {
   "cell_type": "code",
   "execution_count": 120,
   "metadata": {},
   "outputs": [
    {
     "name": "stdout",
     "output_type": "stream",
     "text": [
      "(6, 3, 2) (6, 2)\n",
      "[[10 15]\n",
      " [20 25]\n",
      " [30 35]] [65 85]\n",
      "[[20 25]\n",
      " [30 35]\n",
      " [40 45]] [ 85 105]\n",
      "[[30 35]\n",
      " [40 45]\n",
      " [50 55]] [105 125]\n",
      "[[40 45]\n",
      " [50 55]\n",
      " [60 65]] [125 145]\n",
      "[[50 55]\n",
      " [60 65]\n",
      " [70 75]] [145 165]\n",
      "[[60 65]\n",
      " [70 75]\n",
      " [80 85]] [165 185]\n"
     ]
    }
   ],
   "source": [
    "# define input sequence\n",
    "in_seq1 = array([10, 20, 30, 40, 50, 60, 70, 80, 90])\n",
    "in_seq2 = array([15, 25, 35, 45, 55, 65, 75, 85, 95])\n",
    "out_seq = array([in_seq1[i]+in_seq2[i] for i in range(len(in_seq1))])\n",
    "\n",
    "# convert to [rows, columns] structure\n",
    "in_seq1 = in_seq1.reshape((len(in_seq1), 1))\n",
    "in_seq2 = in_seq2.reshape((len(in_seq2), 1))\n",
    "out_seq = out_seq.reshape((len(out_seq), 1))\n",
    "\n",
    "# horizontally stack columns\n",
    "dataset = hstack((in_seq1, in_seq2, out_seq))\n",
    "\n",
    "# choose a number of time steps\n",
    "n_steps_in, n_steps_out = 3, 2\n",
    "\n",
    "# convert into input/output\n",
    "X, y = split_sequences(dataset, n_steps_in, n_steps_out)\n",
    "print(X.shape, y.shape)\n",
    "\n",
    "# summarize the data\n",
    "for i in range(len(X)):\n",
    "    print(X[i], y[i])"
   ]
  },
  {
   "cell_type": "code",
   "execution_count": 121,
   "metadata": {},
   "outputs": [],
   "source": [
    "# flatten input\n",
    "n_input = X.shape[1] * X.shape[2]\n",
    "X = X.reshape((X.shape[0], n_input))\n",
    "\n",
    "# define model\n",
    "model = Sequential()\n",
    "model.add(Dense(100, activation='relu', input_dim=n_input))\n",
    "model.add(Dense(n_steps_out))\n",
    "model.compile(optimizer='adam', loss='mse')\n",
    "\n",
    "# fit model\n",
    "model.fit(X, y, epochs=2000, verbose=0)\n",
    "\n",
    "# demonstrate prediction\n",
    "x_input = array([[70, 75], [80, 85], [90, 95]])\n",
    "x_input = x_input.reshape((1, n_input))\n",
    "yhat = model.predict(x_input, verbose=0)"
   ]
  },
  {
   "cell_type": "code",
   "execution_count": 122,
   "metadata": {},
   "outputs": [
    {
     "name": "stdout",
     "output_type": "stream",
     "text": [
      "[[186.49048 206.31746]]\n"
     ]
    }
   ],
   "source": [
    "print(yhat)"
   ]
  },
  {
   "cell_type": "markdown",
   "metadata": {},
   "source": [
    "#### Multiple Parallel Input Multi-step Output"
   ]
  },
  {
   "cell_type": "code",
   "execution_count": 6,
   "metadata": {},
   "outputs": [],
   "source": [
    "# multivariate multi-step mlp example\n",
    "from numpy import array\n",
    "from numpy import hstack\n",
    "from keras.models import Sequential\n",
    "from keras.layers import Dense"
   ]
  },
  {
   "cell_type": "code",
   "execution_count": 7,
   "metadata": {},
   "outputs": [],
   "source": [
    "# split a multivariate sequence into samples\n",
    "def split_sequences(sequences, n_steps_in, n_steps_out):\n",
    "    X, y = list(), list()\n",
    "    for i in range(len(sequences)):\n",
    "        # find the end of this pattern\n",
    "        end_ix = i + n_steps_in\n",
    "        out_end_ix = end_ix + n_steps_out\n",
    "        # check if we are beyond the dataset\n",
    "        if out_end_ix > len(sequences):\n",
    "            break\n",
    "        # gather input and output parts of the pattern\n",
    "        seq_x, seq_y = sequences[i:end_ix, :], sequences[end_ix:out_end_ix, :]\n",
    "        X.append(seq_x)\n",
    "        y.append(seq_y)\n",
    "    return array(X), array(y)"
   ]
  },
  {
   "cell_type": "code",
   "execution_count": 8,
   "metadata": {},
   "outputs": [
    {
     "name": "stdout",
     "output_type": "stream",
     "text": [
      "(5, 3, 3) (5, 2, 3)\n",
      "[[10 15 25]\n",
      " [20 25 45]\n",
      " [30 35 65]] [[ 40  45  85]\n",
      " [ 50  55 105]]\n",
      "[[20 25 45]\n",
      " [30 35 65]\n",
      " [40 45 85]] [[ 50  55 105]\n",
      " [ 60  65 125]]\n",
      "[[ 30  35  65]\n",
      " [ 40  45  85]\n",
      " [ 50  55 105]] [[ 60  65 125]\n",
      " [ 70  75 145]]\n",
      "[[ 40  45  85]\n",
      " [ 50  55 105]\n",
      " [ 60  65 125]] [[ 70  75 145]\n",
      " [ 80  85 165]]\n",
      "[[ 50  55 105]\n",
      " [ 60  65 125]\n",
      " [ 70  75 145]] [[ 80  85 165]\n",
      " [ 90  95 185]]\n"
     ]
    }
   ],
   "source": [
    "# define input sequence\n",
    "in_seq1 = array([10, 20, 30, 40, 50, 60, 70, 80, 90])\n",
    "in_seq2 = array([15, 25, 35, 45, 55, 65, 75, 85, 95])\n",
    "out_seq = array([in_seq1[i]+in_seq2[i] for i in range(len(in_seq1))])\n",
    "\n",
    "# convert to [rows, columns] structure\n",
    "in_seq1 = in_seq1.reshape((len(in_seq1), 1))\n",
    "in_seq2 = in_seq2.reshape((len(in_seq2), 1))\n",
    "out_seq = out_seq.reshape((len(out_seq), 1))\n",
    "\n",
    "# horizontally stack columns\n",
    "dataset = hstack((in_seq1, in_seq2, out_seq))\n",
    "\n",
    "# choose a number of time steps\n",
    "n_steps_in, n_steps_out = 3, 2\n",
    "\n",
    "# convert into input/output\n",
    "X, y = split_sequences(dataset, n_steps_in, n_steps_out)\n",
    "print('X.shape, y.shape:',X.shape, y.shape)\n",
    "\n",
    "# summarize the data\n",
    "for i in range(len(X)):\n",
    "    print(X[i], y[i]) #밀렸음"
   ]
  },
  {
   "cell_type": "code",
   "execution_count": 9,
   "metadata": {},
   "outputs": [],
   "source": [
    "# flatten input\n",
    "n_input = X.shape[1] * X.shape[2]\n",
    "X = X.reshape((X.shape[0], n_input))\n",
    "\n",
    "# flatten output\n",
    "n_output = y.shape[1] * y.shape[2]\n",
    "y = y.reshape((y.shape[0], n_output))\n",
    "\n",
    "# define model\n",
    "model = Sequential()\n",
    "model.add(Dense(100, activation='relu', input_dim=n_input))\n",
    "model.add(Dense(n_output))\n",
    "model.compile(optimizer='adam', loss='mse')\n",
    "\n",
    "# fit model\n",
    "model.fit(X, y, epochs=2000, verbose=0)\n",
    "\n",
    "# demonstrate prediction\n",
    "x_input = array([[60, 65, 125], [70, 75, 145], [80, 85, 165]])\n",
    "x_input = x_input.reshape((1, n_input))\n",
    "yhat = model.predict(x_input, verbose=0)"
   ]
  },
  {
   "cell_type": "code",
   "execution_count": 10,
   "metadata": {},
   "outputs": [
    {
     "name": "stdout",
     "output_type": "stream",
     "text": [
      "[[ 89.899185  94.788155 185.143     99.97876  104.982506 205.4795  ]]\n"
     ]
    }
   ],
   "source": [
    "print(yhat)"
   ]
  },
  {
   "cell_type": "markdown",
   "metadata": {},
   "source": [
    "## Topic 3 CNN 시계열 모형"
   ]
  },
  {
   "cell_type": "markdown",
   "metadata": {},
   "source": [
    "### Univariate CNN"
   ]
  },
  {
   "cell_type": "code",
   "execution_count": null,
   "metadata": {},
   "outputs": [],
   "source": [
    "# univariate cnn example\n",
    "from numpy import array\n",
    "from keras.models import Sequential\n",
    "from keras.layers import Dense\n",
    "from keras.layers import Flatten\n",
    "from keras.layers.convolutional import Conv1D\n",
    "from keras.layers.convolutional import MaxPooling1D\n",
    "\n",
    "# split a univariate sequence into samples\n",
    "def split_sequence(sequence, n_steps):\n",
    "    X, y = list(), list()\n",
    "    for i in range(len(sequence)):\n",
    "        # find the end of this pattern\n",
    "        end_ix = i + n_steps\n",
    "        # check if we are beyond the sequence\n",
    "        if end_ix > len(sequence)-1:\n",
    "            break\n",
    "        # gather input and output parts of the pattern\n",
    "        seq_x, seq_y = sequence[i:end_ix], sequence[end_ix]\n",
    "        X.append(seq_x)\n",
    "        y.append(seq_y)\n",
    "    return array(X), array(y)"
   ]
  },
  {
   "cell_type": "code",
   "execution_count": null,
   "metadata": {},
   "outputs": [],
   "source": [
    "# define input sequence\n",
    "raw_seq = [10, 20, 30, 40, 50, 60, 70, 80, 90]\n",
    "\n",
    "# choose a number of time steps\n",
    "n_steps = 3\n",
    "\n",
    "# split into samples\n",
    "X, y = split_sequence(raw_seq, n_steps)"
   ]
  },
  {
   "cell_type": "code",
   "execution_count": null,
   "metadata": {},
   "outputs": [],
   "source": [
    "# summarize the data\n",
    "for i in range(len(X)):\n",
    "    print(X[i], y[i])"
   ]
  },
  {
   "cell_type": "code",
   "execution_count": null,
   "metadata": {},
   "outputs": [],
   "source": [
    "# reshape from [samples, timesteps] into [samples, timesteps, features]\n",
    "n_features = 1\n",
    "X = X.reshape((X.shape[0], X.shape[1], n_features))"
   ]
  },
  {
   "cell_type": "code",
   "execution_count": null,
   "metadata": {},
   "outputs": [],
   "source": [
    "# define model\n",
    "model = Sequential()\n",
    "model.add(Conv1D(filters=64, kernel_size=2, activation='relu', input_shape=(n_steps, n_features)))\n",
    "model.add(MaxPooling1D(pool_size=2))\n",
    "model.add(Flatten())\n",
    "model.add(Dense(50, activation='relu'))\n",
    "model.add(Dense(1))\n",
    "model.compile(optimizer='adam', loss='mse')\n",
    "\n",
    "# fit model\n",
    "model.fit(X, y, epochs=1000, verbose=0)"
   ]
  },
  {
   "cell_type": "code",
   "execution_count": null,
   "metadata": {},
   "outputs": [],
   "source": [
    "# demonstrate prediction\n",
    "x_input = array([70, 80, 90])\n",
    "x_input = x_input.reshape((1, n_steps, n_features))\n",
    "yhat = model.predict(x_input, verbose=0)"
   ]
  },
  {
   "cell_type": "code",
   "execution_count": null,
   "metadata": {},
   "outputs": [],
   "source": [
    "print(yhat)"
   ]
  },
  {
   "cell_type": "markdown",
   "metadata": {},
   "source": [
    "### Multivariate CNN"
   ]
  },
  {
   "cell_type": "markdown",
   "metadata": {},
   "source": [
    "#### Vector-input CNN Model "
   ]
  },
  {
   "cell_type": "code",
   "execution_count": null,
   "metadata": {},
   "outputs": [],
   "source": [
    "# multivariate cnn example\n",
    "from numpy import array\n",
    "from numpy import hstack\n",
    "from keras.models import Sequential\n",
    "from keras.layers import Dense\n",
    "from keras.layers import Flatten\n",
    "from keras.layers.convolutional import Conv1D\n",
    "from keras.layers.convolutional import MaxPooling1D"
   ]
  },
  {
   "cell_type": "code",
   "execution_count": null,
   "metadata": {},
   "outputs": [],
   "source": [
    "# split a multivariate sequence into samples\n",
    "def split_sequences(sequences, n_steps):\n",
    "    X, y = list(), list()\n",
    "    for i in range(len(sequences)):\n",
    "        # find the end of this pattern\n",
    "        end_ix = i + n_steps\n",
    "        # check if we are beyond the dataset\n",
    "        if end_ix > len(sequences):\n",
    "            break\n",
    "        # gather input and output parts of the pattern\n",
    "        seq_x, seq_y = sequences[i:end_ix, :-1], sequences[end_ix-1, -1]\n",
    "        X.append(seq_x)\n",
    "        y.append(seq_y)\n",
    "    return array(X), array(y)"
   ]
  },
  {
   "cell_type": "code",
   "execution_count": null,
   "metadata": {},
   "outputs": [],
   "source": [
    "in_seq1 = array([10, 20, 30, 40, 50, 60, 70, 80, 90])\n",
    "in_seq2 = array([15, 25, 35, 45, 55, 65, 75, 85, 95])\n",
    "out_seq = array([in_seq1[i]+in_seq2[i] for i in range(len(in_seq1))])\n",
    "# convert to [rows, columns] structure\n",
    "in_seq1 = in_seq1.reshape((len(in_seq1), 1))\n",
    "in_seq2 = in_seq2.reshape((len(in_seq2), 1))\n",
    "out_seq = out_seq.reshape((len(out_seq), 1))\n",
    "# horizontally stack columns\n",
    "dataset = hstack((in_seq1, in_seq2, out_seq))"
   ]
  },
  {
   "cell_type": "code",
   "execution_count": null,
   "metadata": {},
   "outputs": [],
   "source": [
    "print(dataset)"
   ]
  },
  {
   "cell_type": "code",
   "execution_count": null,
   "metadata": {},
   "outputs": [],
   "source": [
    "# choose a number of time steps\n",
    "n_steps = 3\n",
    "\n",
    "# convert into input/output\n",
    "X, y = split_sequences(dataset, n_steps)"
   ]
  },
  {
   "cell_type": "code",
   "execution_count": null,
   "metadata": {},
   "outputs": [],
   "source": [
    "print(X.shape, y.shape)"
   ]
  },
  {
   "cell_type": "code",
   "execution_count": null,
   "metadata": {},
   "outputs": [],
   "source": [
    "# summarize the data\n",
    "for i in range(len(X)):\n",
    "    print(X[i], y[i])"
   ]
  },
  {
   "cell_type": "code",
   "execution_count": null,
   "metadata": {},
   "outputs": [],
   "source": [
    "# the dataset knows the number of features, e.g. 2\n",
    "n_features = X.shape[2]\n",
    "\n",
    "# define model\n",
    "model = Sequential()\n",
    "model.add(Conv1D(filters=64, kernel_size=2, activation='relu', input_shape=(n_steps,\n",
    "n_features)))\n",
    "model.add(MaxPooling1D(pool_size=2))\n",
    "model.add(Flatten())\n",
    "model.add(Dense(50, activation='relu'))\n",
    "model.add(Dense(1))\n",
    "model.compile(optimizer='adam', loss='mse')"
   ]
  },
  {
   "cell_type": "code",
   "execution_count": null,
   "metadata": {},
   "outputs": [],
   "source": [
    "# fit model\n",
    "model.fit(X, y, epochs=1000, verbose=0)"
   ]
  },
  {
   "cell_type": "code",
   "execution_count": null,
   "metadata": {},
   "outputs": [],
   "source": [
    "demonstrate prediction\n",
    "x_input = array([[80, 85], [90, 95], [100, 105]])\n",
    "x_input = x_input.reshape((1, n_steps, n_features))\n",
    "yhat = model.predict(x_input, verbose=0)"
   ]
  },
  {
   "cell_type": "code",
   "execution_count": null,
   "metadata": {},
   "outputs": [],
   "source": [
    "print(yhat)"
   ]
  },
  {
   "cell_type": "markdown",
   "metadata": {},
   "source": [
    "#### Multi-headed CNN Model"
   ]
  },
  {
   "cell_type": "code",
   "execution_count": null,
   "metadata": {},
   "outputs": [],
   "source": [
    "# multivariate multi-headed 1d cnn example\n",
    "from numpy import array\n",
    "from numpy import hstack\n",
    "from keras.models import Model\n",
    "from keras.layers import Input\n",
    "from keras.layers import Dense\n",
    "from keras.layers import Flatten\n",
    "from keras.layers.convolutional import Conv1D\n",
    "from keras.layers.convolutional import MaxPooling1D\n",
    "from keras.layers.merge import concatenate\n",
    "\n",
    "# split a multivariate sequence into samples\n",
    "def split_sequences(sequences, n_steps):\n",
    "    X, y = list(), list()\n",
    "    for i in range(len(sequences)):\n",
    "        # find the end of this pattern\n",
    "        end_ix = i + n_steps\n",
    "        # check if we are beyond the dataset\n",
    "        if end_ix > len(sequences):\n",
    "            break\n",
    "        # gather input and output parts of the pattern\n",
    "        seq_x, seq_y = sequences[i:end_ix, :-1], sequences[end_ix-1, -1]\n",
    "        X.append(seq_x)\n",
    "        y.append(seq_y)\n",
    "    return array(X), array(y)\n",
    "\n",
    "# define input sequence\n",
    "in_seq1 = array([10, 20, 30, 40, 50, 60, 70, 80, 90])\n",
    "in_seq2 = array([15, 25, 35, 45, 55, 65, 75, 85, 95])\n",
    "out_seq = array([in_seq1[i]+in_seq2[i] for i in range(len(in_seq1))])\n",
    "\n",
    "# convert to [rows, columns] structure\n",
    "in_seq1 = in_seq1.reshape((len(in_seq1), 1))\n",
    "in_seq2 = in_seq2.reshape((len(in_seq2), 1))\n",
    "out_seq = out_seq.reshape((len(out_seq), 1))\n",
    "\n",
    "# horizontally stack columns\n",
    "dataset = hstack((in_seq1, in_seq2, out_seq))\n",
    "\n",
    "# choose a number of time steps\n",
    "n_steps = 3\n",
    "\n",
    "# convert into input/output\n",
    "X, y = split_sequences(dataset, n_steps)"
   ]
  },
  {
   "cell_type": "code",
   "execution_count": null,
   "metadata": {},
   "outputs": [],
   "source": [
    "# define input sequence\n",
    "in_seq1 = array([10, 20, 30, 40, 50, 60, 70, 80, 90])\n",
    "in_seq2 = array([15, 25, 35, 45, 55, 65, 75, 85, 95])\n",
    "out_seq = array([in_seq1[i]+in_seq2[i] for i in range(len(in_seq1))])\n",
    "\n",
    "# convert to [rows, columns] structure\n",
    "in_seq1 = in_seq1.reshape((len(in_seq1), 1))\n",
    "in_seq2 = in_seq2.reshape((len(in_seq2), 1))\n",
    "out_seq = out_seq.reshape((len(out_seq), 1))\n",
    "\n",
    "# horizontally stack columns\n",
    "dataset = hstack((in_seq1, in_seq2, out_seq))\n",
    "\n",
    "# choose a number of time steps\n",
    "n_steps = 3\n",
    "\n",
    "# convert into input/output\n",
    "X, y = split_sequences(dataset, n_steps)"
   ]
  },
  {
   "cell_type": "code",
   "execution_count": null,
   "metadata": {},
   "outputs": [],
   "source": [
    "# one time series per head\n",
    "n_features = 1\n",
    "\n",
    "# separate input data\n",
    "X1 = X[:, :, 0].reshape(X.shape[0], X.shape[1], n_features)\n",
    "X2 = X[:, :, 1].reshape(X.shape[0], X.shape[1], n_features)"
   ]
  },
  {
   "cell_type": "code",
   "execution_count": null,
   "metadata": {},
   "outputs": [],
   "source": [
    "# first input model\n",
    "visible1 = Input(shape=(n_steps, n_features))\n",
    "cnn1 = Conv1D(filters=64, kernel_size=2, activation='relu')(visible1)\n",
    "cnn1 = MaxPooling1D(pool_size=2)(cnn1)\n",
    "cnn1 = Flatten()(cnn1)\n",
    "\n",
    "# second input model\n",
    "visible2 = Input(shape=(n_steps, n_features))\n",
    "cnn2 = Conv1D(filters=64, kernel_size=2, activation='relu')(visible2)\n",
    "cnn2 = MaxPooling1D(pool_size=2)(cnn2)\n",
    "cnn2 = Flatten()(cnn2)"
   ]
  },
  {
   "cell_type": "code",
   "execution_count": null,
   "metadata": {},
   "outputs": [],
   "source": [
    "# merge input models\n",
    "merge = concatenate([cnn1, cnn2])\n",
    "dense = Dense(50, activation='relu')(merge)\n",
    "output = Dense(1)(dense)\n",
    "model = Model(inputs=[visible1, visible2], outputs=output)\n",
    "model.compile(optimizer='adam', loss='mse')\n",
    "# fit model\n",
    "model.fit([X1, X2], y, epochs=1000, verbose=0)"
   ]
  },
  {
   "cell_type": "code",
   "execution_count": null,
   "metadata": {},
   "outputs": [],
   "source": [
    "# demonstrate prediction\n",
    "x_input = array([[80, 85], [90, 95], [100, 105]])\n",
    "x1 = x_input[:, 0].reshape((1, n_steps, n_features))\n",
    "x2 = x_input[:, 1].reshape((1, n_steps, n_features))\n",
    "yhat = model.predict([x1, x2], verbose=0)"
   ]
  },
  {
   "cell_type": "code",
   "execution_count": null,
   "metadata": {},
   "outputs": [],
   "source": [
    "print(yhat)"
   ]
  },
  {
   "cell_type": "markdown",
   "metadata": {},
   "source": [
    "#### Vector-out CNN Model"
   ]
  },
  {
   "cell_type": "code",
   "execution_count": null,
   "metadata": {},
   "outputs": [],
   "source": [
    "# multivariate output 1d cnn example \n",
    "from numpy import array \n",
    "from numpy import hstack \n",
    "from keras.models import Sequential \n",
    "from keras.layers import Dense \n",
    "from keras.layers import Flatten \n",
    "from keras.layers.convolutional import Conv1D \n",
    "from keras.layers.convolutional import MaxPooling1D"
   ]
  },
  {
   "cell_type": "code",
   "execution_count": null,
   "metadata": {},
   "outputs": [],
   "source": [
    "# split a multivariate sequence into samples \n",
    "def split_sequences(sequences, n_steps): \n",
    "    X, y = list(), list() \n",
    "    for i in range(len(sequences)): \n",
    "        # find the end of this pattern \n",
    "        end_ix = i + n_steps \n",
    "        # check if we are beyond the dataset \n",
    "        if end_ix > len(sequences)-1: \n",
    "            break \n",
    "        # gather input and output parts of the pattern \n",
    "        seq_x, seq_y = sequences[i:end_ix, :], sequences[end_ix, :] \n",
    "        X.append(seq_x)\n",
    "        y.append(seq_y) \n",
    "    return array(X), array(y)"
   ]
  },
  {
   "cell_type": "code",
   "execution_count": null,
   "metadata": {},
   "outputs": [],
   "source": [
    "# define input sequence \n",
    "in_seq1 = array([10, 20, 30, 40, 50, 60, 70, 80, 90]) \n",
    "in_seq2 = array([15, 25, 35, 45, 55, 65, 75, 85, 95]) \n",
    "out_seq = array([in_seq1[i]+in_seq2[i] for i in range(len(in_seq1))]) \n",
    "\n",
    "# convert to [rows, columns] structure \n",
    "in_seq1 = in_seq1.reshape((len(in_seq1), 1)) \n",
    "in_seq2 = in_seq2.reshape((len(in_seq2), 1)) \n",
    "out_seq = out_seq.reshape((len(out_seq), 1)) \n",
    "\n",
    "# horizontally stack columns \n",
    "dataset = hstack((in_seq1, in_seq2, out_seq)) \n",
    "\n",
    "# choose a number of time steps \n",
    "n_steps = 3 \n",
    "\n",
    "# convert into input/output \n",
    "X, y = split_sequences(dataset, n_steps)"
   ]
  },
  {
   "cell_type": "code",
   "execution_count": null,
   "metadata": {},
   "outputs": [],
   "source": [
    "# the dataset knows the number of features, e.g. 2 \n",
    "n_features = X.shape[2] \n",
    "\n",
    "# define model \n",
    "model = Sequential() \n",
    "model.add(Conv1D(filters=64, kernel_size=2, activation='relu', input_shape=(n_steps, n_features))) \n",
    "model.add(MaxPooling1D(pool_size=2)) \n",
    "model.add(Flatten()) \n",
    "model.add(Dense(50, activation='relu')) \n",
    "model.add(Dense(n_features)) \n",
    "model.compile(optimizer='adam', loss='mse') \n",
    "\n",
    "# fit model \n",
    "model.fit(X, y, epochs=3000, verbose=0) "
   ]
  },
  {
   "cell_type": "code",
   "execution_count": null,
   "metadata": {},
   "outputs": [],
   "source": [
    "# demonstrate prediction \n",
    "x_input = array([[70,75,145], [80,85,165], [90,95,185]]) \n",
    "x_input = x_input.reshape((1, n_steps, n_features)) \n",
    "yhat = model.predict(x_input, verbose=0) "
   ]
  },
  {
   "cell_type": "code",
   "execution_count": null,
   "metadata": {},
   "outputs": [],
   "source": [
    "print(yhat)"
   ]
  },
  {
   "cell_type": "markdown",
   "metadata": {},
   "source": [
    "#### Multi-output CNN Model"
   ]
  },
  {
   "cell_type": "code",
   "execution_count": null,
   "metadata": {},
   "outputs": [],
   "source": [
    "# multivariate output 1d cnn example \n",
    "from numpy import array \n",
    "from numpy import hstack \n",
    "from keras.models import Model \n",
    "from keras.layers import Input \n",
    "from keras.layers import Dense \n",
    "from keras.layers import Flatten \n",
    "from keras.layers.convolutional import Conv1D \n",
    "from keras.layers.convolutional import MaxPooling1D"
   ]
  },
  {
   "cell_type": "code",
   "execution_count": null,
   "metadata": {},
   "outputs": [],
   "source": [
    "# split a multivariate sequence into samples \n",
    "def split_sequences(sequences, n_steps): \n",
    "    X, y = list(), list() \n",
    "    for i in range(len(sequences)): \n",
    "        # find the end of this pattern \n",
    "        end_ix = i + n_steps \n",
    "        # check if we are beyond the dataset \n",
    "        if end_ix > len(sequences)-1: \n",
    "            break \n",
    "        # gather input and output parts of the pattern \n",
    "        seq_x, seq_y = sequences[i:end_ix, :], sequences[end_ix, :] \n",
    "        X.append(seq_x) \n",
    "        y.append(seq_y) \n",
    "    return array(X), array(y)"
   ]
  },
  {
   "cell_type": "code",
   "execution_count": null,
   "metadata": {},
   "outputs": [],
   "source": [
    "# define input sequence \n",
    "in_seq1 = array([10, 20, 30, 40, 50, 60, 70, 80, 90]) \n",
    "in_seq2 = array([15, 25, 35, 45, 55, 65, 75, 85, 95]) \n",
    "out_seq = array([in_seq1[i]+in_seq2[i] for i in range(len(in_seq1))]) \n",
    "\n",
    "# convert to [rows, columns] structure \n",
    "in_seq1 = in_seq1.reshape((len(in_seq1), 1)) \n",
    "in_seq2 = in_seq2.reshape((len(in_seq2), 1)) \n",
    "out_seq = out_seq.reshape((len(out_seq), 1)) \n",
    "\n",
    "# horizontally stack columns \n",
    "dataset = hstack((in_seq1, in_seq2, out_seq)) \n",
    "\n",
    "# choose a number of time steps \n",
    "n_steps = 3\n",
    "X, y = split_sequences(dataset, n_steps)\n",
    "\n",
    "# the dataset knows the number of features, e.g. 2 \n",
    "n_features = X.shape[2] "
   ]
  },
  {
   "cell_type": "code",
   "execution_count": null,
   "metadata": {},
   "outputs": [],
   "source": [
    "# separate output \n",
    "y1 = y[:, 0].reshape((y.shape[0], 1)) \n",
    "y2 = y[:, 1].reshape((y.shape[0], 1)) \n",
    "y3 = y[:, 2].reshape((y.shape[0], 1)) \n",
    "\n",
    "# define model \n",
    "visible = Input(shape=(n_steps, n_features)) \n",
    "cnn = Conv1D(filters=64, kernel_size=2, activation='relu')(visible) \n",
    "cnn = MaxPooling1D(pool_size=2)(cnn) \n",
    "cnn = Flatten()(cnn) \n",
    "cnn = Dense(50, activation='relu')(cnn) \n",
    "\n",
    "# define output 1 \n",
    "output1 = Dense(1)(cnn) \n",
    "\n",
    "# define output 2 \n",
    "output2 = Dense(1)(cnn) \n",
    "\n",
    "# define output 3 \n",
    "output3 = Dense(1)(cnn) \n",
    "\n",
    "# tie together \n",
    "model = Model(inputs=visible, outputs=[output1, output2, output3]) \n",
    "model.compile(optimizer='adam', loss='mse') \n",
    "\n",
    "# fit model \n",
    "model.fit(X, [y1,y2,y3], epochs=2000, verbose=0) \n",
    "\n",
    "# demonstrate prediction \n",
    "x_input = array([[70,75,145], [80,85,165], [90,95,185]]) \n",
    "x_input = x_input.reshape((1, n_steps, n_features)) \n",
    "yhat = model.predict(x_input, verbose=0)"
   ]
  },
  {
   "cell_type": "code",
   "execution_count": null,
   "metadata": {},
   "outputs": [],
   "source": [
    "print(yhat)"
   ]
  },
  {
   "cell_type": "markdown",
   "metadata": {},
   "source": [
    "### Multi-step CNN Models(UI UO MS) "
   ]
  },
  {
   "cell_type": "code",
   "execution_count": null,
   "metadata": {},
   "outputs": [],
   "source": [
    "# univariate multi-step vector-output 1d cnn example \n",
    "from numpy import array \n",
    "from keras.models import Sequential \n",
    "from keras.layers import Dense \n",
    "from keras.layers import Flatten \n",
    "from keras.layers.convolutional import Conv1D \n",
    "from keras.layers.convolutional import MaxPooling1D"
   ]
  },
  {
   "cell_type": "code",
   "execution_count": null,
   "metadata": {},
   "outputs": [],
   "source": [
    "# split a univariate sequence into samples \n",
    "def split_sequence(sequence, n_steps_in, n_steps_out): \n",
    "    X, y = list(), list() \n",
    "    for i in range(len(sequence)): \n",
    "        # find the end of this pattern \n",
    "        end_ix = i + n_steps_in \n",
    "        out_end_ix = end_ix + n_steps_out \n",
    "        # check if we are beyond the sequence \n",
    "        if out_end_ix > len(sequence): \n",
    "            break \n",
    "        # gather input and output parts of the pattern \n",
    "        seq_x, seq_y = sequence[i:end_ix], sequence[end_ix:out_end_ix] \n",
    "        X.append(seq_x) \n",
    "        y.append(seq_y) \n",
    "    return array(X), array(y)"
   ]
  },
  {
   "cell_type": "code",
   "execution_count": null,
   "metadata": {},
   "outputs": [],
   "source": [
    "# define input sequence \n",
    "raw_seq = [10, 20, 30, 40, 50, 60, 70, 80, 90]\n",
    "# choose a number of time steps \n",
    "n_steps_in, n_steps_out = 3, 2 \n",
    "# split into samples \n",
    "X, y = split_sequence(raw_seq, n_steps_in, n_steps_out) \n",
    "# reshape from [samples, timesteps] into [samples, timesteps, features] \n",
    "n_features = 1 \n",
    "X = X.reshape((X.shape[0], X.shape[1], n_features)) "
   ]
  },
  {
   "cell_type": "code",
   "execution_count": null,
   "metadata": {},
   "outputs": [],
   "source": [
    "# define model \n",
    "model = Sequential() \n",
    "model.add(Conv1D(filters=64, kernel_size=2, activation='relu', input_shape=(n_steps_in, n_features))) \n",
    "model.add(MaxPooling1D(pool_size=2)) \n",
    "model.add(Flatten()) \n",
    "model.add(Dense(50, activation='relu')) \n",
    "model.add(Dense(n_steps_out)) \n",
    "model.compile(optimizer='adam', loss='mse') \n",
    "# fit model \n",
    "model.fit(X, y, epochs=2000, verbose=0) "
   ]
  },
  {
   "cell_type": "code",
   "execution_count": null,
   "metadata": {},
   "outputs": [],
   "source": [
    "print(yhat)"
   ]
  },
  {
   "cell_type": "markdown",
   "metadata": {},
   "source": [
    "### Multivariate Multi-step CNN Models"
   ]
  },
  {
   "cell_type": "markdown",
   "metadata": {},
   "source": [
    "#### Multiple Input Multi-step Output(MI UO MS)"
   ]
  },
  {
   "cell_type": "code",
   "execution_count": null,
   "metadata": {},
   "outputs": [],
   "source": [
    "# multivariate multi-step 1d cnn example \n",
    "from numpy import array \n",
    "from numpy import hstack \n",
    "from keras.models import Sequential \n",
    "from keras.layers import Dense \n",
    "from keras.layers import Flatten \n",
    "from keras.layers.convolutional import Conv1D \n",
    "from keras.layers.convolutional import MaxPooling1D"
   ]
  },
  {
   "cell_type": "code",
   "execution_count": null,
   "metadata": {},
   "outputs": [],
   "source": [
    "# split a multivariate sequence into samples \n",
    "def split_sequences(sequences, n_steps_in, n_steps_out): \n",
    "    X, y = list(), list() \n",
    "    for i in range(len(sequences)): \n",
    "        # find the end of this pattern \n",
    "        end_ix = i + n_steps_in \n",
    "        out_end_ix = end_ix + n_steps_out-1 \n",
    "        # check if we are beyond the dataset \n",
    "        if out_end_ix > len(sequences): \n",
    "            break \n",
    "        # gather input and output parts of the pattern \n",
    "        seq_x, seq_y = sequences[i:end_ix, :-1], sequences[end_ix-1:out_end_ix, -1] \n",
    "        X.append(seq_x) y.append(seq_y) \n",
    "    return array(X), array(y)"
   ]
  },
  {
   "cell_type": "code",
   "execution_count": null,
   "metadata": {},
   "outputs": [],
   "source": [
    "# define input sequence \n",
    "in_seq1 = array([10, 20, 30, 40, 50, 60, 70, 80, 90]) \n",
    "in_seq2 = array([15, 25, 35, 45, 55, 65, 75, 85, 95]) \n",
    "out_seq = array([in_seq1[i]+in_seq2[i] for i in range(len(in_seq1))]) \n",
    "# convert to [rows, columns] structure \n",
    "in_seq1 = in_seq1.reshape((len(in_seq1), 1)) \n",
    "in_seq2 = in_seq2.reshape((len(in_seq2), 1)) \n",
    "out_seq = out_seq.reshape((len(out_seq), 1)) \n",
    "# horizontally stack columns \n",
    "dataset = hstack((in_seq1, in_seq2, out_seq)) \n",
    "# choose a number of time steps \n",
    "n_steps_in, n_steps_out = 3, 2 \n",
    "# convert into input/output \n",
    "X, y = split_sequences(dataset, n_steps_in, n_steps_out) \n",
    "print(X.shape, y.shape) "
   ]
  },
  {
   "cell_type": "code",
   "execution_count": null,
   "metadata": {},
   "outputs": [],
   "source": [
    "# summarize the data \n",
    "for i in range(len(X)): \n",
    "    print(X[i], y[i])"
   ]
  },
  {
   "cell_type": "code",
   "execution_count": null,
   "metadata": {},
   "outputs": [],
   "source": [
    "# the dataset knows the number of features, e.g. 2 \n",
    "n_features = X.shape[2] \n",
    "# define model \n",
    "model = Sequential() \n",
    "model.add(Conv1D(filters=64, kernel_size=2, activation='relu', input_shape=(n_steps_in, n_features))) \n",
    "model.add(MaxPooling1D(pool_size=2)) \n",
    "model.add(Flatten()) \n",
    "model.add(Dense(50, activation='relu')) \n",
    "model.add(Dense(n_steps_out)) \n",
    "model.compile(optimizer='adam', loss='mse') \n",
    "# fit model \n",
    "model.fit(X, y, epochs=2000, verbose=0) \n",
    "# demonstrate prediction \n",
    "x_input = array([[70, 75], [80, 85], [90, 95]]) \n",
    "x_input = x_input.reshape((1, n_steps_in, n_features)) \n",
    "yhat = model.predict(x_input, verbose=0)"
   ]
  },
  {
   "cell_type": "code",
   "execution_count": null,
   "metadata": {},
   "outputs": [],
   "source": [
    "print(yhat)"
   ]
  },
  {
   "cell_type": "markdown",
   "metadata": {},
   "source": [
    "#### Multiple Parallel Input Multi-step Output(MI MO MS)"
   ]
  },
  {
   "cell_type": "code",
   "execution_count": null,
   "metadata": {},
   "outputs": [],
   "source": [
    "# multivariate output multi-step 1d cnn example \n",
    "from numpy import array \n",
    "from numpy import hstack \n",
    "from keras.models import Sequential \n",
    "from keras.layers import Dense \n",
    "from keras.layers import Flatten \n",
    "from keras.layers.convolutional import Conv1D \n",
    "from keras.layers.convolutional import MaxPooling1D"
   ]
  },
  {
   "cell_type": "code",
   "execution_count": null,
   "metadata": {},
   "outputs": [],
   "source": [
    "# split a multivariate sequence into samples \n",
    "def split_sequences(sequences, n_steps_in, n_steps_out): \n",
    "    X, y = list(), list() \n",
    "    for i in range(len(sequences)): \n",
    "        # find the end of this pattern \n",
    "        end_ix = i + n_steps_in \n",
    "        out_end_ix = end_ix + n_steps_out \n",
    "        # check if we are beyond the dataset \n",
    "        if out_end_ix > len(sequences): \n",
    "            break \n",
    "        # gather input and output parts of the pattern \n",
    "        seq_x, seq_y = sequences[i:end_ix, :], sequences[end_ix:out_end_ix, :] \n",
    "        X.append(seq_x) y.append(seq_y) \n",
    "    return array(X), array(y)"
   ]
  },
  {
   "cell_type": "code",
   "execution_count": null,
   "metadata": {},
   "outputs": [],
   "source": [
    "# define input sequence \n",
    "in_seq1 = array([10, 20, 30, 40, 50, 60, 70, 80, 90]) \n",
    "in_seq2 = array([15, 25, 35, 45, 55, 65, 75, 85, 95]) \n",
    "out_seq = array([in_seq1[i]+in_seq2[i] for i in range(len(in_seq1))]) \n",
    "# convert to [rows, columns] structure \n",
    "in_seq1 = in_seq1.reshape((len(in_seq1), 1)) \n",
    "in_seq2 = in_seq2.reshape((len(in_seq2), 1)) \n",
    "out_seq = out_seq.reshape((len(out_seq), 1)) \n",
    "# horizontally stack columns \n",
    "dataset = hstack((in_seq1, in_seq2, out_seq)) \n",
    "# choose a number of time steps \n",
    "n_steps_in, n_steps_out = 3, 2 \n",
    "# convert into input/output \n",
    "X, y = split_sequences(dataset, n_steps_in, n_steps_out) \n",
    "\n",
    "print(X.shape, y.shape) "
   ]
  },
  {
   "cell_type": "code",
   "execution_count": null,
   "metadata": {},
   "outputs": [],
   "source": [
    "# summarize the data \n",
    "for i in range(len(X)): \n",
    "    print(X[i], y[i])"
   ]
  },
  {
   "cell_type": "code",
   "execution_count": null,
   "metadata": {},
   "outputs": [],
   "source": [
    "# flatten output \n",
    "n_output = y.shape[1] * y.shape[2] \n",
    "y = y.reshape((y.shape[0], n_output)) \n",
    "# the dataset knows the number of features, e.g. 2 \n",
    "n_features = X.shape[2]\n",
    "# define model \n",
    "model = Sequential() \n",
    "model.add(Conv1D(filters=64, kernel_size=2, activation='relu', input_shape=(n_steps_in, n_features))) \n",
    "model.add(MaxPooling1D(pool_size=2)) \n",
    "model.add(Flatten()) \n",
    "model.add(Dense(50, activation='relu')) \n",
    "model.add(Dense(n_output)) \n",
    "model.compile(optimizer='adam', loss='mse') \n",
    "# fit model \n",
    "model.fit(X, y, epochs=7000, verbose=0) \n",
    "# demonstrate prediction \n",
    "x_input = array([[60, 65, 125], [70, 75, 145], [80, 85, 165]]) \n",
    "x_input = x_input.reshape((1, n_steps_in, n_features)) \n",
    "yhat = model.predict(x_input, verbose=0) "
   ]
  },
  {
   "cell_type": "code",
   "execution_count": null,
   "metadata": {},
   "outputs": [],
   "source": [
    "print(yhat)"
   ]
  },
  {
   "cell_type": "markdown",
   "metadata": {},
   "source": [
    "## Topic 4 LSTM 시계열 모형"
   ]
  },
  {
   "cell_type": "markdown",
   "metadata": {},
   "source": [
    "### Univariate LSTM Models"
   ]
  },
  {
   "cell_type": "markdown",
   "metadata": {},
   "source": [
    "#### Data Preparation"
   ]
  },
  {
   "cell_type": "code",
   "execution_count": 1,
   "metadata": {},
   "outputs": [],
   "source": [
    "# univariate data preparation \n",
    "from numpy import array"
   ]
  },
  {
   "cell_type": "code",
   "execution_count": 2,
   "metadata": {},
   "outputs": [],
   "source": [
    "# split a univariate sequence into samples \n",
    "def split_sequence(sequence, n_steps): \n",
    "    X, y = list(), list() \n",
    "    for i in range(len(sequence)): \n",
    "        # find the end of this pattern \n",
    "        end_ix = i + n_steps \n",
    "        # check if we are beyond the sequence \n",
    "        if end_ix > len(sequence)-1: \n",
    "            break \n",
    "        # gather input and output parts of the pattern \n",
    "        seq_x, seq_y = sequence[i:end_ix], sequence[end_ix] \n",
    "        X.append(seq_x) \n",
    "        y.append(seq_y) \n",
    "    return array(X), array(y)"
   ]
  },
  {
   "cell_type": "code",
   "execution_count": 3,
   "metadata": {},
   "outputs": [
    {
     "name": "stdout",
     "output_type": "stream",
     "text": [
      "[10 20 30] 40\n",
      "[20 30 40] 50\n",
      "[30 40 50] 60\n",
      "[40 50 60] 70\n",
      "[50 60 70] 80\n",
      "[60 70 80] 90\n"
     ]
    }
   ],
   "source": [
    "# define input sequence \n",
    "raw_seq = [10, 20, 30, 40, 50, 60, 70, 80, 90] \n",
    "# choose a number of time steps \n",
    "n_steps = 3 \n",
    "# split into samples \n",
    "X, y = split_sequence(raw_seq, n_steps) \n",
    "# summarize the data \n",
    "for i in range(len(X)): \n",
    "    print(X[i], y[i])"
   ]
  },
  {
   "cell_type": "code",
   "execution_count": 4,
   "metadata": {},
   "outputs": [
    {
     "name": "stdout",
     "output_type": "stream",
     "text": [
      "[[10 20 30]\n",
      " [20 30 40]\n",
      " [30 40 50]\n",
      " [40 50 60]\n",
      " [50 60 70]\n",
      " [60 70 80]]\n"
     ]
    }
   ],
   "source": [
    "print(X)"
   ]
  },
  {
   "cell_type": "code",
   "execution_count": 6,
   "metadata": {},
   "outputs": [
    {
     "data": {
      "text/plain": [
       "(6, 3)"
      ]
     },
     "execution_count": 6,
     "metadata": {},
     "output_type": "execute_result"
    }
   ],
   "source": [
    "X.shape"
   ]
  },
  {
   "cell_type": "code",
   "execution_count": 5,
   "metadata": {},
   "outputs": [
    {
     "name": "stdout",
     "output_type": "stream",
     "text": [
      "[40 50 60 70 80 90]\n"
     ]
    }
   ],
   "source": [
    "print(y)"
   ]
  },
  {
   "cell_type": "code",
   "execution_count": 7,
   "metadata": {},
   "outputs": [
    {
     "data": {
      "text/plain": [
       "(6,)"
      ]
     },
     "execution_count": 7,
     "metadata": {},
     "output_type": "execute_result"
    }
   ],
   "source": [
    "y.shape"
   ]
  },
  {
   "cell_type": "markdown",
   "metadata": {},
   "source": [
    "#### Vanilla LSTM"
   ]
  },
  {
   "cell_type": "code",
   "execution_count": 1,
   "metadata": {},
   "outputs": [
    {
     "name": "stderr",
     "output_type": "stream",
     "text": [
      "Using TensorFlow backend.\n"
     ]
    }
   ],
   "source": [
    "# univariate lstm example \n",
    "from numpy import array \n",
    "from keras.models import Sequential \n",
    "from keras.layers import LSTM \n",
    "from keras.layers import Dense"
   ]
  },
  {
   "cell_type": "code",
   "execution_count": 2,
   "metadata": {},
   "outputs": [],
   "source": [
    "# split a univariate sequence into samples \n",
    "def split_sequence(sequence, n_steps): \n",
    "    X, y = list(), list() \n",
    "    for i in range(len(sequence)): \n",
    "        # find the end of this pattern \n",
    "        end_ix = i + n_steps \n",
    "        # check if we are beyond the sequence \n",
    "        if end_ix > len(sequence)-1: \n",
    "            break \n",
    "        # gather input and output parts of the pattern \n",
    "        seq_x, seq_y = sequence[i:end_ix], sequence[end_ix] \n",
    "        X.append(seq_x) \n",
    "        y.append(seq_y) \n",
    "    return array(X), array(y)\n",
    "\n",
    "# define input sequence \n",
    "raw_seq = [10, 20, 30, 40, 50, 60, 70, 80, 90] \n",
    "\n",
    "# choose a number of time steps \n",
    "n_steps = 3 \n",
    "\n",
    "# split into samples \n",
    "X, y = split_sequence(raw_seq, n_steps) "
   ]
  },
  {
   "cell_type": "code",
   "execution_count": 4,
   "metadata": {},
   "outputs": [
    {
     "name": "stdout",
     "output_type": "stream",
     "text": [
      "WARNING:tensorflow:From C:\\Users\\Changho\\Anaconda3\\lib\\site-packages\\tensorflow\\python\\framework\\op_def_library.py:263: colocate_with (from tensorflow.python.framework.ops) is deprecated and will be removed in a future version.\n",
      "Instructions for updating:\n",
      "Colocations handled automatically by placer.\n",
      "WARNING:tensorflow:From C:\\Users\\Changho\\Anaconda3\\lib\\site-packages\\tensorflow\\python\\ops\\math_ops.py:3066: to_int32 (from tensorflow.python.ops.math_ops) is deprecated and will be removed in a future version.\n",
      "Instructions for updating:\n",
      "Use tf.cast instead.\n"
     ]
    },
    {
     "data": {
      "text/plain": [
       "<keras.callbacks.History at 0x17e81731438>"
      ]
     },
     "execution_count": 4,
     "metadata": {},
     "output_type": "execute_result"
    }
   ],
   "source": [
    "# reshape from [samples, timesteps] into [samples, timesteps, features] \n",
    "n_features = 1 \n",
    "X = X.reshape((X.shape[0], X.shape[1], n_features)) \n",
    "\n",
    "# define model \n",
    "model = Sequential() \n",
    "model.add(LSTM(50, activation='relu', input_shape=(n_steps, n_features))) \n",
    "model.add(Dense(1)) \n",
    "model.compile(optimizer='adam', loss='mse') \n",
    "\n",
    "# fit model \n",
    "model.fit(X, y, epochs=200, verbose=0) "
   ]
  },
  {
   "cell_type": "code",
   "execution_count": 5,
   "metadata": {},
   "outputs": [],
   "source": [
    "# demonstrate prediction \n",
    "x_input = array([70, 80, 90]) \n",
    "x_input = x_input.reshape((1, n_steps, n_features))\n",
    "yhat = model.predict(x_input, verbose=0) "
   ]
  },
  {
   "cell_type": "code",
   "execution_count": 6,
   "metadata": {},
   "outputs": [
    {
     "name": "stdout",
     "output_type": "stream",
     "text": [
      "[[102.89083]]\n"
     ]
    }
   ],
   "source": [
    "print(yhat)"
   ]
  },
  {
   "cell_type": "markdown",
   "metadata": {},
   "source": [
    "#### Stacked LSTM"
   ]
  },
  {
   "cell_type": "code",
   "execution_count": null,
   "metadata": {},
   "outputs": [],
   "source": [
    "# univariate stacked lstm example \n",
    "from numpy import array \n",
    "from keras.models import Sequential \n",
    "from keras.layers import LSTM \n",
    "from keras.layers import Dense"
   ]
  },
  {
   "cell_type": "code",
   "execution_count": null,
   "metadata": {},
   "outputs": [],
   "source": [
    "# split a univariate sequence into samples \n",
    "def split_sequence(sequence, n_steps): \n",
    "    X, y = list(), list() \n",
    "    for i in range(len(sequence)): \n",
    "        # find the end of this pattern \n",
    "        end_ix = i + n_steps \n",
    "        # check if we are beyond the sequence \n",
    "        if end_ix > len(sequence)-1: \n",
    "            break \n",
    "        # gather input and output parts of the pattern \n",
    "        seq_x, seq_y = sequence[i:end_ix], sequence[end_ix] \n",
    "        X.append(seq_x) \n",
    "        y.append(seq_y) \n",
    "    return array(X), array(y)\n",
    "\n",
    "# define input sequence \n",
    "raw_seq = [10, 20, 30, 40, 50, 60, 70, 80, 90] \n",
    "\n",
    "# choose a number of time steps \n",
    "n_steps = 3 \n",
    "\n",
    "# split into samples \n",
    "X, y = split_sequence(raw_seq, n_steps)\n",
    "\n",
    "# reshape from [samples, timesteps] into [samples, timesteps, features] \n",
    "n_features = 1 \n",
    "X = X.reshape((X.shape[0], X.shape[1], n_features)) "
   ]
  },
  {
   "cell_type": "code",
   "execution_count": null,
   "metadata": {},
   "outputs": [],
   "source": [
    "# define model \n",
    "model = Sequential() \n",
    "model.add(LSTM(50, activation='relu', return_sequences=True, input_shape=(n_steps, n_features))) \n",
    "model.add(LSTM(50, activation='relu')) \n",
    "model.add(Dense(1)) \n",
    "model.compile(optimizer='adam', loss='mse') \n",
    "\n",
    "# fit model \n",
    "model.fit(X, y, epochs=200, verbose=0) \n",
    "\n",
    "# demonstrate prediction \n",
    "x_input = array([70, 80, 90]) \n",
    "x_input = x_input.reshape((1, n_steps, n_features)) \n",
    "yhat = model.predict(x_input, verbose=0) "
   ]
  },
  {
   "cell_type": "code",
   "execution_count": null,
   "metadata": {},
   "outputs": [],
   "source": [
    "print(yhat)"
   ]
  },
  {
   "cell_type": "markdown",
   "metadata": {},
   "source": [
    "#### Biderectional LSTM"
   ]
  },
  {
   "cell_type": "code",
   "execution_count": 1,
   "metadata": {},
   "outputs": [
    {
     "name": "stderr",
     "output_type": "stream",
     "text": [
      "Using TensorFlow backend.\n"
     ]
    }
   ],
   "source": [
    "# univariate bidirectional lstm example \n",
    "from numpy import array \n",
    "from keras.models import Sequential \n",
    "from keras.layers import LSTM \n",
    "from keras.layers import Dense \n",
    "from keras.layers import Bidirectional"
   ]
  },
  {
   "cell_type": "code",
   "execution_count": 2,
   "metadata": {},
   "outputs": [],
   "source": [
    "# split a univariate sequence into samples \n",
    "def split_sequence(sequence, n_steps): \n",
    "    X, y = list(), list() \n",
    "    for i in range(len(sequence)): \n",
    "        # find the end of this pattern \n",
    "        end_ix = i + n_steps \n",
    "        # check if we are beyond the sequence \n",
    "        if end_ix > len(sequence)-1: \n",
    "            break \n",
    "        # gather input and output parts of the pattern \n",
    "        seq_x, seq_y = sequence[i:end_ix], sequence[end_ix] \n",
    "        X.append(seq_x) \n",
    "        y.append(seq_y) \n",
    "    return array(X), array(y)\n",
    "\n",
    "# define input sequence \n",
    "raw_seq = [10, 20, 30, 40, 50, 60, 70, 80, 90] \n",
    "\n",
    "# choose a number of time steps \n",
    "n_steps = 3 \n",
    "\n",
    "# split into samples \n",
    "X, y = split_sequence(raw_seq, n_steps)\n",
    "\n",
    "# reshape from [samples, timesteps] into [samples, timesteps, features] \n",
    "n_features = 1 \n",
    "X = X.reshape((X.shape[0], X.shape[1], n_features))"
   ]
  },
  {
   "cell_type": "code",
   "execution_count": 3,
   "metadata": {},
   "outputs": [
    {
     "name": "stdout",
     "output_type": "stream",
     "text": [
      "WARNING:tensorflow:From C:\\Users\\Changho\\Anaconda3\\lib\\site-packages\\tensorflow\\python\\framework\\op_def_library.py:263: colocate_with (from tensorflow.python.framework.ops) is deprecated and will be removed in a future version.\n",
      "Instructions for updating:\n",
      "Colocations handled automatically by placer.\n"
     ]
    }
   ],
   "source": [
    "# define model \n",
    "model = Sequential() \n",
    "model.add(Bidirectional(LSTM(50, activation='relu'), input_shape=(n_steps, n_features))) \n",
    "model.add(Dense(1)) \n",
    "model.compile(optimizer='adam', loss='mse')"
   ]
  },
  {
   "cell_type": "code",
   "execution_count": 4,
   "metadata": {},
   "outputs": [
    {
     "name": "stdout",
     "output_type": "stream",
     "text": [
      "WARNING:tensorflow:From C:\\Users\\Changho\\Anaconda3\\lib\\site-packages\\tensorflow\\python\\ops\\math_ops.py:3066: to_int32 (from tensorflow.python.ops.math_ops) is deprecated and will be removed in a future version.\n",
      "Instructions for updating:\n",
      "Use tf.cast instead.\n"
     ]
    }
   ],
   "source": [
    "# fit model \n",
    "model.fit(X, y, epochs=200, verbose=0) \n",
    "# demonstrate prediction \n",
    "x_input = array([70, 80, 90]) \n",
    "x_input = x_input.reshape((1, n_steps, n_features)) \n",
    "yhat = model.predict(x_input, verbose=0) "
   ]
  },
  {
   "cell_type": "code",
   "execution_count": 5,
   "metadata": {},
   "outputs": [
    {
     "name": "stdout",
     "output_type": "stream",
     "text": [
      "[[102.42606]]\n"
     ]
    }
   ],
   "source": [
    "print(yhat)"
   ]
  },
  {
   "cell_type": "markdown",
   "metadata": {},
   "source": [
    "#### CNN-LSTM"
   ]
  },
  {
   "cell_type": "code",
   "execution_count": 1,
   "metadata": {},
   "outputs": [
    {
     "name": "stderr",
     "output_type": "stream",
     "text": [
      "Using TensorFlow backend.\n"
     ]
    }
   ],
   "source": [
    "# univariate cnn lstm example \n",
    "from numpy import array \n",
    "from keras.models import Sequential \n",
    "from keras.layers import LSTM \n",
    "from keras.layers import Dense \n",
    "from keras.layers import Flatten \n",
    "from keras.layers import TimeDistributed \n",
    "from keras.layers.convolutional import Conv1D \n",
    "from keras.layers.convolutional import MaxPooling1D"
   ]
  },
  {
   "cell_type": "code",
   "execution_count": 2,
   "metadata": {},
   "outputs": [],
   "source": [
    "# split a univariate sequence into samples \n",
    "def split_sequence(sequence, n_steps): \n",
    "    X, y = list(), list() \n",
    "    for i in range(len(sequence)): \n",
    "        # find the end of this pattern \n",
    "        end_ix = i + n_steps \n",
    "        # check if we are beyond the sequence \n",
    "        if end_ix > len(sequence)-1: \n",
    "            break \n",
    "        # gather input and output parts of the pattern \n",
    "        seq_x, seq_y = sequence[i:end_ix], sequence[end_ix] \n",
    "        X.append(seq_x) \n",
    "        y.append(seq_y) \n",
    "    return array(X), array(y)"
   ]
  },
  {
   "cell_type": "code",
   "execution_count": 3,
   "metadata": {},
   "outputs": [],
   "source": [
    "# define input sequence \n",
    "raw_seq = [10, 20, 30, 40, 50, 60, 70, 80, 90] \n",
    "\n",
    "# choose a number of time steps \n",
    "n_steps = 4 \n",
    "\n",
    "# split into samples \n",
    "X, y = split_sequence(raw_seq, n_steps) "
   ]
  },
  {
   "cell_type": "code",
   "execution_count": 4,
   "metadata": {},
   "outputs": [
    {
     "name": "stdout",
     "output_type": "stream",
     "text": [
      "[[10 20 30 40]\n",
      " [20 30 40 50]\n",
      " [30 40 50 60]\n",
      " [40 50 60 70]\n",
      " [50 60 70 80]]\n"
     ]
    }
   ],
   "source": [
    "print(X)"
   ]
  },
  {
   "cell_type": "code",
   "execution_count": 5,
   "metadata": {},
   "outputs": [
    {
     "data": {
      "text/plain": [
       "(5, 4)"
      ]
     },
     "execution_count": 5,
     "metadata": {},
     "output_type": "execute_result"
    }
   ],
   "source": [
    "X.shape"
   ]
  },
  {
   "cell_type": "code",
   "execution_count": 6,
   "metadata": {},
   "outputs": [
    {
     "name": "stdout",
     "output_type": "stream",
     "text": [
      "[50 60 70 80 90]\n"
     ]
    }
   ],
   "source": [
    "print(y)"
   ]
  },
  {
   "cell_type": "code",
   "execution_count": 7,
   "metadata": {},
   "outputs": [
    {
     "data": {
      "text/plain": [
       "(5,)"
      ]
     },
     "execution_count": 7,
     "metadata": {},
     "output_type": "execute_result"
    }
   ],
   "source": [
    "y.shape"
   ]
  },
  {
   "cell_type": "code",
   "execution_count": 8,
   "metadata": {},
   "outputs": [],
   "source": [
    "# reshape from [samples, timesteps] into [samples, subsequences, timesteps, features] \n",
    "n_features = 1 \n",
    "n_seq = 2 \n",
    "n_steps = 2 \n",
    "X = X.reshape((X.shape[0], n_seq, n_steps, n_features)) "
   ]
  },
  {
   "cell_type": "code",
   "execution_count": 9,
   "metadata": {},
   "outputs": [
    {
     "name": "stdout",
     "output_type": "stream",
     "text": [
      "[[[[10]\n",
      "   [20]]\n",
      "\n",
      "  [[30]\n",
      "   [40]]]\n",
      "\n",
      "\n",
      " [[[20]\n",
      "   [30]]\n",
      "\n",
      "  [[40]\n",
      "   [50]]]\n",
      "\n",
      "\n",
      " [[[30]\n",
      "   [40]]\n",
      "\n",
      "  [[50]\n",
      "   [60]]]\n",
      "\n",
      "\n",
      " [[[40]\n",
      "   [50]]\n",
      "\n",
      "  [[60]\n",
      "   [70]]]\n",
      "\n",
      "\n",
      " [[[50]\n",
      "   [60]]\n",
      "\n",
      "  [[70]\n",
      "   [80]]]]\n"
     ]
    }
   ],
   "source": [
    "print(X)"
   ]
  },
  {
   "cell_type": "code",
   "execution_count": 10,
   "metadata": {},
   "outputs": [
    {
     "data": {
      "text/plain": [
       "(5, 2, 2, 1)"
      ]
     },
     "execution_count": 10,
     "metadata": {},
     "output_type": "execute_result"
    }
   ],
   "source": [
    "X.shape"
   ]
  },
  {
   "cell_type": "code",
   "execution_count": 11,
   "metadata": {},
   "outputs": [
    {
     "name": "stdout",
     "output_type": "stream",
     "text": [
      "WARNING:tensorflow:From C:\\Users\\Changho\\Anaconda3\\lib\\site-packages\\tensorflow\\python\\framework\\op_def_library.py:263: colocate_with (from tensorflow.python.framework.ops) is deprecated and will be removed in a future version.\n",
      "Instructions for updating:\n",
      "Colocations handled automatically by placer.\n",
      "WARNING:tensorflow:From C:\\Users\\Changho\\Anaconda3\\lib\\site-packages\\tensorflow\\python\\ops\\math_ops.py:3066: to_int32 (from tensorflow.python.ops.math_ops) is deprecated and will be removed in a future version.\n",
      "Instructions for updating:\n",
      "Use tf.cast instead.\n"
     ]
    },
    {
     "data": {
      "text/plain": [
       "<keras.callbacks.History at 0x2b75f8c68d0>"
      ]
     },
     "execution_count": 11,
     "metadata": {},
     "output_type": "execute_result"
    }
   ],
   "source": [
    "# define model \n",
    "model = Sequential() \n",
    "model.add(TimeDistributed(Conv1D(filters=64, kernel_size=1, activation='relu'), input_shape=(None, n_steps, n_features))) \n",
    "model.add(TimeDistributed(MaxPooling1D(pool_size=2))) \n",
    "model.add(TimeDistributed(Flatten())) \n",
    "model.add(LSTM(50, activation='relu')) \n",
    "model.add(Dense(1)) \n",
    "model.compile(optimizer='adam', loss='mse') \n",
    "# fit model \n",
    "model.fit(X, y, epochs=500, verbose=0) "
   ]
  },
  {
   "cell_type": "code",
   "execution_count": 12,
   "metadata": {},
   "outputs": [],
   "source": [
    "# demonstrate prediction \n",
    "x_input = array([60, 70, 80, 90])"
   ]
  },
  {
   "cell_type": "code",
   "execution_count": 13,
   "metadata": {},
   "outputs": [
    {
     "data": {
      "text/plain": [
       "array([60, 70, 80, 90])"
      ]
     },
     "execution_count": 13,
     "metadata": {},
     "output_type": "execute_result"
    }
   ],
   "source": [
    "x_input"
   ]
  },
  {
   "cell_type": "code",
   "execution_count": 14,
   "metadata": {},
   "outputs": [],
   "source": [
    "x_input = x_input.reshape((1, n_seq, n_steps, n_features))"
   ]
  },
  {
   "cell_type": "code",
   "execution_count": 15,
   "metadata": {},
   "outputs": [
    {
     "data": {
      "text/plain": [
       "array([[[[60],\n",
       "         [70]],\n",
       "\n",
       "        [[80],\n",
       "         [90]]]])"
      ]
     },
     "execution_count": 15,
     "metadata": {},
     "output_type": "execute_result"
    }
   ],
   "source": [
    "x_input"
   ]
  },
  {
   "cell_type": "code",
   "execution_count": 16,
   "metadata": {},
   "outputs": [
    {
     "data": {
      "text/plain": [
       "(1, 2, 2, 1)"
      ]
     },
     "execution_count": 16,
     "metadata": {},
     "output_type": "execute_result"
    }
   ],
   "source": [
    "x_input.shape"
   ]
  },
  {
   "cell_type": "code",
   "execution_count": 17,
   "metadata": {},
   "outputs": [],
   "source": [
    "yhat = model.predict(x_input, verbose=0) "
   ]
  },
  {
   "cell_type": "code",
   "execution_count": 18,
   "metadata": {},
   "outputs": [
    {
     "name": "stdout",
     "output_type": "stream",
     "text": [
      "[[101.7786]]\n"
     ]
    }
   ],
   "source": [
    "print(yhat)"
   ]
  },
  {
   "cell_type": "markdown",
   "metadata": {},
   "source": [
    "#### ConvLSTM"
   ]
  },
  {
   "cell_type": "code",
   "execution_count": 1,
   "metadata": {},
   "outputs": [
    {
     "name": "stderr",
     "output_type": "stream",
     "text": [
      "Using TensorFlow backend.\n"
     ]
    }
   ],
   "source": [
    "# univariate cnn lstm example \n",
    "from numpy import array \n",
    "from keras.models import Sequential \n",
    "from keras.layers import Dense \n",
    "from keras.layers import Flatten\n",
    "from keras.layers import ConvLSTM2D"
   ]
  },
  {
   "cell_type": "code",
   "execution_count": 2,
   "metadata": {},
   "outputs": [],
   "source": [
    "# split a univariate sequence into samples \n",
    "def split_sequence(sequence, n_steps): \n",
    "    X, y = list(), list() \n",
    "    for i in range(len(sequence)): \n",
    "        # find the end of this pattern \n",
    "        end_ix = i + n_steps \n",
    "        # check if we are beyond the sequence \n",
    "        if end_ix > len(sequence)-1: \n",
    "            break \n",
    "        # gather input and output parts of the pattern \n",
    "        seq_x, seq_y = sequence[i:end_ix], sequence[end_ix] \n",
    "        X.append(seq_x) \n",
    "        y.append(seq_y) \n",
    "    return array(X), array(y)"
   ]
  },
  {
   "cell_type": "code",
   "execution_count": 3,
   "metadata": {},
   "outputs": [],
   "source": [
    "# define input sequence \n",
    "raw_seq = [10, 20, 30, 40, 50, 60, 70, 80, 90] \n",
    "\n",
    "# choose a number of time steps \n",
    "n_steps = 4 \n",
    "\n",
    "# split into samples \n",
    "X, y = split_sequence(raw_seq, n_steps) "
   ]
  },
  {
   "cell_type": "code",
   "execution_count": 4,
   "metadata": {},
   "outputs": [],
   "source": [
    "# reshape from [samples, timesteps] into [samples, timesteps, rows, columns, features] \n",
    "n_features = 1 \n",
    "n_seq = 2 \n",
    "n_steps = 2 \n",
    "X = X.reshape((X.shape[0], n_seq, 1, n_steps, n_features)) "
   ]
  },
  {
   "cell_type": "code",
   "execution_count": 5,
   "metadata": {},
   "outputs": [
    {
     "name": "stdout",
     "output_type": "stream",
     "text": [
      "WARNING:tensorflow:From C:\\Users\\Changho\\Anaconda3\\lib\\site-packages\\tensorflow\\python\\framework\\op_def_library.py:263: colocate_with (from tensorflow.python.framework.ops) is deprecated and will be removed in a future version.\n",
      "Instructions for updating:\n",
      "Colocations handled automatically by placer.\n",
      "WARNING:tensorflow:From C:\\Users\\Changho\\Anaconda3\\lib\\site-packages\\tensorflow\\python\\ops\\math_ops.py:3066: to_int32 (from tensorflow.python.ops.math_ops) is deprecated and will be removed in a future version.\n",
      "Instructions for updating:\n",
      "Use tf.cast instead.\n"
     ]
    },
    {
     "data": {
      "text/plain": [
       "<keras.callbacks.History at 0x222df2aee48>"
      ]
     },
     "execution_count": 5,
     "metadata": {},
     "output_type": "execute_result"
    }
   ],
   "source": [
    "# define model \n",
    "model = Sequential() \n",
    "model.add(ConvLSTM2D(filters=64, kernel_size=(1,2), activation='relu', input_shape=(n_seq, 1, n_steps, n_features))) \n",
    "model.add(Flatten()) \n",
    "model.add(Dense(1)) \n",
    "model.compile(optimizer='adam', loss='mse') \n",
    "# fit model \n",
    "model.fit(X, y, epochs=500, verbose=0) "
   ]
  },
  {
   "cell_type": "code",
   "execution_count": 6,
   "metadata": {},
   "outputs": [],
   "source": [
    "# demonstrate prediction \n",
    "x_input = array([60, 70, 80, 90]) \n",
    "x_input = x_input.reshape((1, n_seq, 1, n_steps, n_features)) \n",
    "yhat = model.predict(x_input, verbose=0) "
   ]
  },
  {
   "cell_type": "code",
   "execution_count": 7,
   "metadata": {},
   "outputs": [
    {
     "name": "stdout",
     "output_type": "stream",
     "text": [
      "[[104.02933]]\n"
     ]
    }
   ],
   "source": [
    "print(yhat)"
   ]
  },
  {
   "cell_type": "markdown",
   "metadata": {},
   "source": [
    "### Multivariate LSTM Models"
   ]
  },
  {
   "cell_type": "markdown",
   "metadata": {},
   "source": [
    "#### Multiple Input Series"
   ]
  },
  {
   "cell_type": "code",
   "execution_count": null,
   "metadata": {},
   "outputs": [],
   "source": [
    "# multivariate lstm example \n",
    "from numpy import array \n",
    "from numpy import hstack \n",
    "from keras.models import Sequential \n",
    "from keras.layers import LSTM \n",
    "from keras.layers import Dense"
   ]
  },
  {
   "cell_type": "code",
   "execution_count": null,
   "metadata": {},
   "outputs": [],
   "source": [
    "# split a multivariate sequence into samples \n",
    "def split_sequences(sequences, n_steps): \n",
    "    X, y = list(), list() \n",
    "    for i in range(len(sequences)): \n",
    "        # find the end of this pattern \n",
    "        end_ix = i + n_steps \n",
    "        # check if we are beyond the dataset \n",
    "        if end_ix > len(sequences): \n",
    "            break \n",
    "        # gather input and output parts of the pattern \n",
    "        seq_x, seq_y = sequences[i:end_ix, :-1], sequences[end_ix-1, -1] \n",
    "        X.append(seq_x) y.append(seq_y) \n",
    "    return array(X), array(y)"
   ]
  },
  {
   "cell_type": "code",
   "execution_count": null,
   "metadata": {},
   "outputs": [],
   "source": [
    "# define input sequence \n",
    "in_seq1 = array([10, 20, 30, 40, 50, 60, 70, 80, 90]) \n",
    "in_seq2 = array([15, 25, 35, 45, 55, 65, 75, 85, 95]) \n",
    "out_seq = array([in_seq1[i]+in_seq2[i] for i in range(len(in_seq1))]) \n",
    "# convert to [rows, columns] structure \n",
    "in_seq1 = in_seq1.reshape((len(in_seq1), 1)) \n",
    "in_seq2 = in_seq2.reshape((len(in_seq2), 1)) \n",
    "out_seq = out_seq.reshape((len(out_seq), 1)) \n",
    "# horizontally stack columns \n",
    "dataset = hstack((in_seq1, in_seq2, out_seq)) \n",
    "# choose a number of time steps\n",
    "n_steps = 3 \n",
    "# convert into input/output \n",
    "X, y = split_sequences(dataset, n_steps) "
   ]
  },
  {
   "cell_type": "code",
   "execution_count": null,
   "metadata": {},
   "outputs": [],
   "source": [
    "print(X.shape, y.shape)"
   ]
  },
  {
   "cell_type": "code",
   "execution_count": null,
   "metadata": {},
   "outputs": [],
   "source": [
    "# summarize the data \n",
    "for i in range(len(X)): \n",
    "    print(X[i], y[i])"
   ]
  },
  {
   "cell_type": "code",
   "execution_count": null,
   "metadata": {},
   "outputs": [],
   "source": [
    "# the dataset knows the number of features, e.g. 3\n",
    "n_features = X.shape[2] \n",
    "# define model \n",
    "model = Sequential() \n",
    "model.add(LSTM(50, activation='relu', input_shape=(n_steps, n_features))) \n",
    "model.add(Dense(1)) \n",
    "model.compile(optimizer='adam', loss='mse') \n",
    "# fit model \n",
    "model.fit(X, y, epochs=200, verbose=0) "
   ]
  },
  {
   "cell_type": "code",
   "execution_count": null,
   "metadata": {},
   "outputs": [],
   "source": [
    "# demonstrate prediction \n",
    "x_input = array([[80, 85], [90, 95], [100, 105]]) \n",
    "x_input = x_input.reshape((1, n_steps, n_features)) \n",
    "yhat = model.predict(x_input, verbose=0) "
   ]
  },
  {
   "cell_type": "code",
   "execution_count": null,
   "metadata": {},
   "outputs": [],
   "source": [
    "print(yhat)"
   ]
  },
  {
   "cell_type": "markdown",
   "metadata": {},
   "source": [
    "####  Multiple Parallel Series"
   ]
  },
  {
   "cell_type": "code",
   "execution_count": null,
   "metadata": {},
   "outputs": [],
   "source": [
    "# multivariate output stacked lstm example \n",
    "from numpy import array \n",
    "from numpy import hstack \n",
    "from keras.models import Sequential \n",
    "from keras.layers import LSTM \n",
    "from keras.layers import Dense\n"
   ]
  },
  {
   "cell_type": "code",
   "execution_count": null,
   "metadata": {},
   "outputs": [],
   "source": [
    "# split a multivariate sequence into samples \n",
    "def split_sequences(sequences, n_steps): \n",
    "    X, y = list(), list() \n",
    "    for i in range(len(sequences)): \n",
    "        # find the end of this pattern \n",
    "        end_ix = i + n_steps \n",
    "        # check if we are beyond the dataset \n",
    "        if end_ix > len(sequences)-1: \n",
    "            break \n",
    "        # gather input and output parts of the pattern \n",
    "        seq_x, seq_y = sequences[i:end_ix, :], sequences[end_ix, :] \n",
    "        X.append(seq_x) \n",
    "        y.append(seq_y)\n",
    "    return array(X), array(y)"
   ]
  },
  {
   "cell_type": "code",
   "execution_count": null,
   "metadata": {},
   "outputs": [],
   "source": [
    "# define input sequence \n",
    "in_seq1 = array([10, 20, 30, 40, 50, 60, 70, 80, 90]) \n",
    "in_seq2 = array([15, 25, 35, 45, 55, 65, 75, 85, 95]) \n",
    "out_seq = array([in_seq1[i]+in_seq2[i] for i in range(len(in_seq1))]) \n",
    "# convert to [rows, columns] structure \n",
    "in_seq1 = in_seq1.reshape((len(in_seq1), 1)) \n",
    "in_seq2 = in_seq2.reshape((len(in_seq2), 1)) \n",
    "out_seq = out_seq.reshape((len(out_seq), 1)) \n",
    "# horizontally stack columns \n",
    "dataset = hstack((in_seq1, in_seq2, out_seq)) \n",
    "# choose a number of time steps \n",
    "n_steps = 3 \n",
    "# convert into input/output \n",
    "X, y = split_sequences(dataset, n_steps) "
   ]
  },
  {
   "cell_type": "code",
   "execution_count": null,
   "metadata": {},
   "outputs": [],
   "source": [
    "print(X.shape, y.shape)"
   ]
  },
  {
   "cell_type": "code",
   "execution_count": null,
   "metadata": {},
   "outputs": [],
   "source": [
    "# summarize the data \n",
    "for i in range(len(X)): \n",
    "    print(X[i], y[i])"
   ]
  },
  {
   "cell_type": "code",
   "execution_count": null,
   "metadata": {},
   "outputs": [],
   "source": [
    "# the dataset knows the number of features, e.g. 3 \n",
    "n_features = X.shape[2] \n",
    "# define model \n",
    "model = Sequential() \n",
    "model.add(LSTM(100, activation='relu', return_sequences=True, input_shape=(n_steps, n_features))) \n",
    "model.add(LSTM(100, activation='relu')) \n",
    "model.add(Dense(n_features)) \n",
    "model.compile(optimizer='adam', loss='mse') \n",
    "# fit model \n",
    "model.fit(X, y, epochs=400, verbose=0)"
   ]
  },
  {
   "cell_type": "code",
   "execution_count": null,
   "metadata": {},
   "outputs": [],
   "source": [
    "# demonstrate prediction \n",
    "x_input = array([[70,75,145], [80,85,165], [90,95,185]]) \n",
    "x_input = x_input.reshape((1, n_steps, n_features)) \n",
    "yhat = model.predict(x_input, verbose=0) "
   ]
  },
  {
   "cell_type": "code",
   "execution_count": null,
   "metadata": {},
   "outputs": [],
   "source": [
    "print(yhat)"
   ]
  },
  {
   "cell_type": "markdown",
   "metadata": {},
   "source": [
    "### Multi-step LSTM Models"
   ]
  },
  {
   "cell_type": "markdown",
   "metadata": {},
   "source": [
    "#### Data Preparation"
   ]
  },
  {
   "cell_type": "code",
   "execution_count": null,
   "metadata": {},
   "outputs": [],
   "source": [
    "# multi-step data preparation \n",
    "from numpy import array"
   ]
  },
  {
   "cell_type": "code",
   "execution_count": null,
   "metadata": {},
   "outputs": [],
   "source": [
    "# split a univariate sequence into samples \n",
    "def split_sequence(sequence, n_steps_in, n_steps_out): \n",
    "    X, y = list(), list() \n",
    "    for i in range(len(sequence)): \n",
    "        # find the end of this pattern \n",
    "        end_ix = i + n_steps_in \n",
    "        out_end_ix = end_ix + n_steps_out \n",
    "        # check if we are beyond the sequence \n",
    "        if out_end_ix > len(sequence): \n",
    "            break \n",
    "        # gather input and output parts of the pattern \n",
    "        seq_x, seq_y = sequence[i:end_ix], sequence[end_ix:out_end_ix] \n",
    "        X.append(seq_x) \n",
    "        y.append(seq_y) \n",
    "    return array(X), array(y)\n"
   ]
  },
  {
   "cell_type": "code",
   "execution_count": null,
   "metadata": {},
   "outputs": [],
   "source": [
    "# define input sequence \n",
    "raw_seq = [10, 20, 30, 40, 50, 60, 70, 80, 90] \n",
    "# choose a number of time steps \n",
    "n_steps_in, n_steps_out = 3, 2 \n",
    "# split into samples \n",
    "X, y = split_sequence(raw_seq, n_steps_in, n_steps_out) "
   ]
  },
  {
   "cell_type": "code",
   "execution_count": null,
   "metadata": {},
   "outputs": [],
   "source": [
    "# summarize the data \n",
    "for i in range(len(X)): \n",
    "    print(X[i], y[i])"
   ]
  },
  {
   "cell_type": "markdown",
   "metadata": {},
   "source": [
    "#### Vector Output Model"
   ]
  },
  {
   "cell_type": "code",
   "execution_count": null,
   "metadata": {},
   "outputs": [],
   "source": [
    "# univariate multi-step vector-output stacked lstm example \n",
    "from numpy import array \n",
    "from keras.models import Sequential \n",
    "from keras.layers import LSTM \n",
    "from keras.layers import Dense"
   ]
  },
  {
   "cell_type": "code",
   "execution_count": null,
   "metadata": {},
   "outputs": [],
   "source": [
    "# split a univariate sequence into samples \n",
    "def split_sequence(sequence, n_steps_in, n_steps_out): \n",
    "    X, y = list(), list() \n",
    "    for i in range(len(sequence)): \n",
    "        # find the end of this pattern\n",
    "        end_ix = i + n_steps_in \n",
    "        out_end_ix = end_ix + n_steps_out \n",
    "        # check if we are beyond the sequence \n",
    "        if out_end_ix > len(sequence): \n",
    "            break \n",
    "        # gather input and output parts of the pattern \n",
    "        seq_x, seq_y = sequence[i:end_ix], sequence[end_ix:out_end_ix] \n",
    "        X.append(seq_x) \n",
    "        y.append(seq_y) \n",
    "    return array(X), array(y)"
   ]
  },
  {
   "cell_type": "code",
   "execution_count": null,
   "metadata": {},
   "outputs": [],
   "source": [
    "# define input sequence \n",
    "raw_seq = [10, 20, 30, 40, 50, 60, 70, 80, 90] \n",
    "# choose a number of time steps \n",
    "n_steps_in, n_steps_out = 3, 2 \n",
    "# split into samples \n",
    "X, y = split_sequence(raw_seq, n_steps_in, n_steps_out) \n",
    "# reshape from [samples, timesteps] into [samples, timesteps, features] \n",
    "n_features = 1 \n",
    "X = X.reshape((X.shape[0], X.shape[1], n_features)) "
   ]
  },
  {
   "cell_type": "code",
   "execution_count": null,
   "metadata": {},
   "outputs": [],
   "source": [
    "# define model \n",
    "model = Sequential() \n",
    "model.add(LSTM(100, activation='relu', return_sequences=True, input_shape=(n_steps_in, n_features))) \n",
    "model.add(LSTM(100, activation='relu')) \n",
    "model.add(Dense(n_steps_out)) \n",
    "model.compile(optimizer='adam', loss='mse') \n",
    "# fit model \n",
    "model.fit(X, y, epochs=50, verbose=0) "
   ]
  },
  {
   "cell_type": "code",
   "execution_count": null,
   "metadata": {},
   "outputs": [],
   "source": [
    "# demonstrate prediction \n",
    "x_input = array([70, 80, 90]) \n",
    "x_input = x_input.reshape((1, n_steps_in, n_features)) \n",
    "yhat = model.predict(x_input, verbose=0) "
   ]
  },
  {
   "cell_type": "code",
   "execution_count": null,
   "metadata": {},
   "outputs": [],
   "source": [
    "print(yhat)"
   ]
  },
  {
   "cell_type": "markdown",
   "metadata": {},
   "source": [
    "#### Encoder-Decoder Model"
   ]
  },
  {
   "cell_type": "code",
   "execution_count": null,
   "metadata": {},
   "outputs": [],
   "source": [
    "# univariate multi-step encoder-decoder lstm example \n",
    "from numpy import array \n",
    "from keras.models import Sequential \n",
    "from keras.layers import LSTM \n",
    "from keras.layers import Dense \n",
    "from keras.layers import RepeatVector \n",
    "from keras.layers import TimeDistributed"
   ]
  },
  {
   "cell_type": "code",
   "execution_count": null,
   "metadata": {},
   "outputs": [],
   "source": [
    "# split a univariate sequence into samples \n",
    "def split_sequence(sequence, n_steps_in, n_steps_out): \n",
    "    X, y = list(), list() for i in range(len(sequence)): \n",
    "        # find the end of this pattern \n",
    "        end_ix = i + n_steps_in out_end_ix = end_ix + n_steps_out \n",
    "        # check if we are beyond the sequence \n",
    "        if out_end_ix > len(sequence): \n",
    "            break \n",
    "        # gather input and output parts of the pattern \n",
    "        seq_x, seq_y = sequence[i:end_ix], sequence[end_ix:out_end_ix] \n",
    "        X.append(seq_x) \n",
    "        y.append(seq_y) \n",
    "    return array(X), array(y)"
   ]
  },
  {
   "cell_type": "code",
   "execution_count": null,
   "metadata": {},
   "outputs": [],
   "source": [
    "# define input sequence \n",
    "raw_seq = [10, 20, 30, 40, 50, 60, 70, 80, 90] \n",
    "# choose a number of time steps \n",
    "n_steps_in, n_steps_out = 3, 2 \n",
    "# split into samples \n",
    "X, y = split_sequence(raw_seq, n_steps_in, n_steps_out) \n",
    "# reshape from [samples, timesteps] into [samples, timesteps, features] \n",
    "n_features = 1 \n",
    "X = X.reshape((X.shape[0], X.shape[1], n_features)) \n",
    "y = y.reshape((y.shape[0], y.shape[1], n_features)) "
   ]
  },
  {
   "cell_type": "code",
   "execution_count": null,
   "metadata": {},
   "outputs": [],
   "source": [
    "# define model \n",
    "model = Sequential() \n",
    "model.add(LSTM(100, activation='relu', input_shape=(n_steps_in, n_features))) \n",
    "model.add(RepeatVector(n_steps_out)) \n",
    "model.add(LSTM(100, activation='relu', return_sequences=True)) \n",
    "model.add(TimeDistributed(Dense(1))) \n",
    "model.compile(optimizer='adam', loss='mse')\n",
    "# fit model \n",
    "model.fit(X, y, epochs=100, verbose=0) "
   ]
  },
  {
   "cell_type": "code",
   "execution_count": null,
   "metadata": {},
   "outputs": [],
   "source": [
    "# demonstrate prediction \n",
    "x_input = array([70, 80, 90]) \n",
    "x_input = x_input.reshape((1, n_steps_in, n_features)) \n",
    "yhat = model.predict(x_input, verbose=0) "
   ]
  },
  {
   "cell_type": "code",
   "execution_count": null,
   "metadata": {},
   "outputs": [],
   "source": [
    "print(yhat)"
   ]
  },
  {
   "cell_type": "markdown",
   "metadata": {},
   "source": [
    "### Multivariate Multi-step LSTM Models"
   ]
  },
  {
   "cell_type": "markdown",
   "metadata": {},
   "source": [
    "#### Multiple Input Multi-step Output"
   ]
  },
  {
   "cell_type": "code",
   "execution_count": null,
   "metadata": {},
   "outputs": [],
   "source": [
    "# multivariate multi-step stacked lstm example \n",
    "from numpy import array \n",
    "from numpy import hstack \n",
    "from keras.models import Sequential \n",
    "from keras.layers import LSTM \n",
    "from keras.layers import Dense"
   ]
  },
  {
   "cell_type": "code",
   "execution_count": null,
   "metadata": {},
   "outputs": [],
   "source": [
    "# split a multivariate sequence into samples \n",
    "def split_sequences(sequences, n_steps_in, n_steps_out): \n",
    "    X, y = list(), list() \n",
    "    for i in range(len(sequences)): \n",
    "        # find the end of this pattern \n",
    "        end_ix = i + n_steps_in \n",
    "        out_end_ix = end_ix + n_steps_out-1 \n",
    "        # check if we are beyond the dataset \n",
    "        if out_end_ix > len(sequences): \n",
    "            break \n",
    "        # gather input and output parts of the pattern \n",
    "        seq_x, seq_y = sequences[i:end_ix, :-1], sequences[end_ix-1:out_end_ix, -1] \n",
    "        X.append(seq_x) \n",
    "        y.append(seq_y) \n",
    "    return array(X), array(y)"
   ]
  },
  {
   "cell_type": "code",
   "execution_count": null,
   "metadata": {},
   "outputs": [],
   "source": [
    "# define input sequence \n",
    "in_seq1 = array([10, 20, 30, 40, 50, 60, 70, 80, 90]) \n",
    "in_seq2 = array([15, 25, 35, 45, 55, 65, 75, 85, 95]) \n",
    "out_seq = array([in_seq1[i]+in_seq2[i] for i in range(len(in_seq1))]) \n",
    "# convert to [rows, columns] structure \n",
    "in_seq1 = in_seq1.reshape((len(in_seq1), 1)) \n",
    "in_seq2 = in_seq2.reshape((len(in_seq2), 1)) \n",
    "out_seq = out_seq.reshape((len(out_seq), 1)) \n",
    "# horizontally stack columns \n",
    "dataset = hstack((in_seq1, in_seq2, out_seq)) \n",
    "# choose a number of time steps \n",
    "n_steps_in, n_steps_out = 3, 2 \n",
    "# covert into input/output \n",
    "X, y = split_sequences(dataset, n_steps_in, n_steps_out) "
   ]
  },
  {
   "cell_type": "code",
   "execution_count": null,
   "metadata": {},
   "outputs": [],
   "source": [
    "print(X.shape, y.shape) \n",
    "# summarize the data \n",
    "for i in range(len(X)): \n",
    "    print(X[i], y[i])"
   ]
  },
  {
   "cell_type": "code",
   "execution_count": null,
   "metadata": {},
   "outputs": [],
   "source": [
    "# the dataset knows the number of features, e.g. 2 \n",
    "n_features = X.shape[2] \n",
    "# define model \n",
    "model = Sequential() \n",
    "model.add(LSTM(100, activation='relu', return_sequences=True, input_shape=(n_steps_in, n_features))) \n",
    "model.add(LSTM(100, activation='relu')) \n",
    "model.add(Dense(n_steps_out)) \n",
    "model.compile(optimizer='adam', loss='mse') \n",
    "# fit model \n",
    "model.fit(X, y, epochs=200, verbose=0) "
   ]
  },
  {
   "cell_type": "code",
   "execution_count": null,
   "metadata": {},
   "outputs": [],
   "source": [
    "# demonstrate prediction \n",
    "x_input = array([[70, 75], [80, 85], [90, 95]]) \n",
    "x_input = x_input.reshape((1, n_steps_in, n_features)) \n",
    "yhat = model.predict(x_input, verbose=0) "
   ]
  },
  {
   "cell_type": "code",
   "execution_count": null,
   "metadata": {},
   "outputs": [],
   "source": [
    "print(yhat)"
   ]
  },
  {
   "cell_type": "markdown",
   "metadata": {},
   "source": [
    "#### Multiple Parallel Input Multi-step Output"
   ]
  },
  {
   "cell_type": "code",
   "execution_count": null,
   "metadata": {},
   "outputs": [],
   "source": [
    "# multivariate multi-step encoder-decoder lstm example \n",
    "from numpy import array \n",
    "from numpy import hstack \n",
    "from keras.models import Sequential \n",
    "from keras.layers import LSTM \n",
    "from keras.layers import Dense \n",
    "from keras.layers import RepeatVector \n",
    "from keras.layers import TimeDistributed"
   ]
  },
  {
   "cell_type": "code",
   "execution_count": null,
   "metadata": {},
   "outputs": [],
   "source": [
    "# split a multivariate sequence into samples \n",
    "def split_sequences(sequences, n_steps_in, n_steps_out): \n",
    "    X, y = list(), list() \n",
    "    for i in range(len(sequences)): \n",
    "        # find the end of this pattern\n",
    "        end_ix = i + n_steps_in \n",
    "        out_end_ix = end_ix + n_steps_out \n",
    "        # check if we are beyond the dataset \n",
    "        if out_end_ix > len(sequences): \n",
    "            break \n",
    "        # gather input and output parts of the pattern \n",
    "        seq_x, seq_y = sequences[i:end_ix, :], sequences[end_ix:out_end_ix, :] \n",
    "        X.append(seq_x) \n",
    "        y.append(seq_y) \n",
    "        return array(X), array(y)"
   ]
  },
  {
   "cell_type": "code",
   "execution_count": null,
   "metadata": {},
   "outputs": [],
   "source": [
    "# define input sequence \n",
    "in_seq1 = array([10, 20, 30, 40, 50, 60, 70, 80, 90]) \n",
    "in_seq2 = array([15, 25, 35, 45, 55, 65, 75, 85, 95]) \n",
    "out_seq = array([in_seq1[i]+in_seq2[i] for i in range(len(in_seq1))]) \n",
    "# convert to [rows, columns] structure \n",
    "in_seq1 = in_seq1.reshape((len(in_seq1), 1)) \n",
    "in_seq2 = in_seq2.reshape((len(in_seq2), 1)) \n",
    "out_seq = out_seq.reshape((len(out_seq), 1)) \n",
    "# horizontally stack columns \n",
    "dataset = hstack((in_seq1, in_seq2, out_seq)) \n",
    "# choose a number of time steps \n",
    "n_steps_in, n_steps_out = 3, 2 \n",
    "# covert into input/output \n",
    "X, y = split_sequences(dataset, n_steps_in, n_steps_out) "
   ]
  },
  {
   "cell_type": "code",
   "execution_count": null,
   "metadata": {},
   "outputs": [],
   "source": [
    "print(X.shape, y.shape) \n",
    "# summarize the data \n",
    "for i in range(len(X)): \n",
    "    print(X[i], y[i])"
   ]
  },
  {
   "cell_type": "code",
   "execution_count": null,
   "metadata": {},
   "outputs": [],
   "source": [
    "# the dataset knows the number of features, e.g. 2 \n",
    "n_features = X.shape[2] \n",
    "# define model \n",
    "model = Sequential() \n",
    "model.add(LSTM(200, activation='relu', input_shape=(n_steps_in, n_features))) \n",
    "model.add(RepeatVector(n_steps_out)) \n",
    "model.add(LSTM(200, activation='relu', return_sequences=True)) \n",
    "model.add(TimeDistributed(Dense(n_features))) \n",
    "model.compile(optimizer='adam', loss='mse') \n",
    "# fit model \n",
    "model.fit(X, y, epochs=300, verbose=0) "
   ]
  },
  {
   "cell_type": "code",
   "execution_count": null,
   "metadata": {},
   "outputs": [],
   "source": [
    "# demonstrate prediction \n",
    "x_input = array([[60, 65, 125], [70, 75, 145], [80, 85, 165]]) \n",
    "x_input = x_input.reshape((1, n_steps_in, n_features)) \n",
    "yhat = model.predict(x_input, verbose=0) "
   ]
  },
  {
   "cell_type": "code",
   "execution_count": null,
   "metadata": {},
   "outputs": [],
   "source": [
    "print(yhat)"
   ]
  }
 ],
 "metadata": {
  "kernelspec": {
   "display_name": "Python 3",
   "language": "python",
   "name": "python3"
  },
  "language_info": {
   "codemirror_mode": {
    "name": "ipython",
    "version": 3
   },
   "file_extension": ".py",
   "mimetype": "text/x-python",
   "name": "python",
   "nbconvert_exporter": "python",
   "pygments_lexer": "ipython3",
   "version": "3.6.8"
  }
 },
 "nbformat": 4,
 "nbformat_minor": 2
}
