{
 "cells": [
  {
   "cell_type": "code",
   "execution_count": 1,
   "metadata": {},
   "outputs": [],
   "source": [
    "import pandas as pd\n",
    "import numpy as np\n",
    "\n",
    "import matplotlib.pyplot as plt\n",
    "\n",
    "import warnings\n",
    "warnings.filterwarnings(action='ignore') \n",
    "import numpy as np\n",
    "\n",
    "import missingno as msno\n",
    "from tqdm import tqdm_notebook"
   ]
  },
  {
   "cell_type": "code",
   "execution_count": 2,
   "metadata": {},
   "outputs": [],
   "source": [
    "train_iden = pd.read_csv(\"train_identity.csv\")\n",
    "train_tran = pd.read_csv(\"train_transaction.csv\")\n",
    "test_iden = pd.read_csv(\"test_identity.csv\")\n",
    "test_tran = pd.read_csv(\"test_transaction.csv\")"
   ]
  },
  {
   "cell_type": "code",
   "execution_count": 3,
   "metadata": {},
   "outputs": [],
   "source": [
    "train_sample = train_tran[['isFraud','ProductCD','card4','card6', # catagory feature\n",
    "                           'TransactionDT',\t'TransactionAmt',\n",
    "       'card1','card2','card3','card5','addr1','addr2',\n",
    "        'C1', 'C2', 'C3', 'C4', 'C5', 'C6', 'C7', \n",
    "       'C8', 'C9', 'C10', 'C11','C12', 'C13', 'C14',\n",
    "        'D1','D10','D15',\n",
    "                           \n",
    "        'V12', 'V13', 'V14', 'V15','V16', 'V17', 'V18', 'V19', 'V20', 'V21', 'V22', 'V23',\n",
    "        'V24', 'V25', 'V26', 'V27', 'V28', 'V29', 'V30', 'V31', 'V32', 'V33','V34',\n",
    "                           \n",
    "       'V95','V96','V97', 'V98', 'V99', 'V100', 'V101', 'V102', 'V103', 'V104', 'V105',\n",
    "       'V106', 'V107', 'V108', 'V109', 'V110', 'V111', 'V112', 'V113', 'V114',\n",
    "       'V115', 'V116', 'V117', 'V118', 'V119', 'V120', 'V121', 'V122', 'V123',\n",
    "       'V124', 'V125', 'V126', 'V127', 'V128', 'V129', 'V130', 'V131', 'V132','V133', 'V134', 'V135', 'V136','V137',\n",
    "                           \n",
    "       'V279','V280','V284', 'V285', 'V286', 'V287', 'V290', 'V291', 'V292',\n",
    "       'V293', 'V294', 'V295', 'V297', 'V298', 'V299', 'V303', 'V304', 'V305', 'V306']]\n",
    "sample = train_sample.fillna(train_sample.mean())"
   ]
  },
  {
   "cell_type": "code",
   "execution_count": 4,
   "metadata": {},
   "outputs": [],
   "source": [
    "def dummy_data(data, columns):\n",
    "    for column in columns:\n",
    "        data = pd.concat([data, pd.get_dummies(data[column], prefix = column)], axis=1)\n",
    "        data = data.drop(column, axis=1)\n",
    "    return data"
   ]
  },
  {
   "cell_type": "code",
   "execution_count": 5,
   "metadata": {},
   "outputs": [],
   "source": [
    "dummy_columns = ['ProductCD','card4','card6']\n",
    "#train_dummy = dummy_data(sample, dummy_columns)\n",
    "sample = dummy_data(sample, dummy_columns)"
   ]
  },
  {
   "cell_type": "code",
   "execution_count": 6,
   "metadata": {},
   "outputs": [
    {
     "data": {
      "text/plain": [
       "Index(['isFraud', 'TransactionDT', 'TransactionAmt', 'card1', 'card2', 'card3',\n",
       "       'card5', 'addr1', 'addr2', 'C1',\n",
       "       ...\n",
       "       'ProductCD_S', 'ProductCD_W', 'card4_american express',\n",
       "       'card4_discover', 'card4_mastercard', 'card4_visa', 'card6_charge card',\n",
       "       'card6_credit', 'card6_debit', 'card6_debit or credit'],\n",
       "      dtype='object', length=124)"
      ]
     },
     "execution_count": 6,
     "metadata": {},
     "output_type": "execute_result"
    }
   ],
   "source": [
    "sample.columns"
   ]
  },
  {
   "cell_type": "code",
   "execution_count": 7,
   "metadata": {},
   "outputs": [
    {
     "name": "stderr",
     "output_type": "stream",
     "text": [
      "Using TensorFlow backend.\n"
     ]
    }
   ],
   "source": [
    "import itertools\n",
    "from sklearn.model_selection import train_test_split\n",
    "from sklearn.metrics import * \n",
    "import imblearn.under_sampling as usam"
   ]
  },
  {
   "cell_type": "code",
   "execution_count": 8,
   "metadata": {},
   "outputs": [],
   "source": [
    "X = sample.drop('isFraud', axis = 1)\n",
    "Y = sample['isFraud']\n",
    "feature_names = X.columns.tolist() # 컬럼을 리스트화\n",
    "Train_X, Test_X, Train_Y, Test_Y = train_test_split(X, Y, test_size = 0.1, \n",
    "                                                    shuffle = False, random_state = 13)"
   ]
  },
  {
   "cell_type": "code",
   "execution_count": 9,
   "metadata": {},
   "outputs": [],
   "source": [
    "rus = usam.RandomUnderSampler()\n",
    "undersampled_X, undersampled_Y = rus.fit_sample(Train_X, Train_Y)"
   ]
  },
  {
   "cell_type": "code",
   "execution_count": 10,
   "metadata": {},
   "outputs": [],
   "source": [
    "import lightgbm as lgb\n",
    "\n",
    "train_ds = lgb.Dataset(undersampled_X, label = undersampled_Y) \n",
    "test_ds = lgb.Dataset(Test_X, label = Test_Y) "
   ]
  },
  {
   "cell_type": "code",
   "execution_count": 11,
   "metadata": {},
   "outputs": [
    {
     "name": "stdout",
     "output_type": "stream",
     "text": [
      "Training until validation scores don't improve for 100 rounds.\n",
      "Early stopping, best iteration is:\n",
      "[605]\tvalid_0's auc: 0.917992\n",
      "0.9179918785194267\n"
     ]
    }
   ],
   "source": [
    "# https://testlightgbm.readthedocs.io/en/latest/Parameters.html\n",
    "params = {'learning_rate': 0.01, \n",
    "          'max_depth': 16, \n",
    "          'boosting': 'gbdt', \n",
    "          'objective': 'binary', \n",
    "          'metric': 'auc', \n",
    "          'is_training_metric': True, \n",
    "          'num_leaves': 144, \n",
    "          'feature_fraction': 0.9, \n",
    "          'bagging_fraction': 0.7, \n",
    "          'bagging_freq': 5, \n",
    "          'seed':13,\n",
    "          'device': 'cpu'}\n",
    "model = lgb.train(params, train_ds, 1000, test_ds, verbose_eval = 1000, early_stopping_rounds = 100)\n",
    "predicted = model.predict(Test_X)\n",
    "print (roc_auc_score(Test_Y, predicted))"
   ]
  },
  {
   "cell_type": "code",
   "execution_count": 12,
   "metadata": {},
   "outputs": [
    {
     "name": "stderr",
     "output_type": "stream",
     "text": [
      "/home/kiho/anaconda3/lib/python3.7/site-packages/sklearn/externals/joblib/__init__.py:15: DeprecationWarning: sklearn.externals.joblib is deprecated in 0.21 and will be removed in 0.23. Please import this functionality directly from joblib, which can be installed with: pip install joblib. If this warning is raised when loading pickled models, you may need to re-serialize those models with scikit-learn 0.21+.\n",
      "  warnings.warn(msg, category=DeprecationWarning)\n"
     ]
    }
   ],
   "source": [
    "from sklearn.externals import joblib\n",
    "joblib.dump(model, 'under_sampling_model.pkl')\n",
    "model = joblib.load('under_sampling_model.pkl') "
   ]
  },
  {
   "cell_type": "code",
   "execution_count": 14,
   "metadata": {},
   "outputs": [],
   "source": [
    "test_sample = test_tran[['ProductCD','card4','card6', # catagory feature\n",
    "                           'TransactionDT',\t'TransactionAmt',\n",
    "       'card1','card2','card3','card5','addr1','addr2',\n",
    "        'C1', 'C2', 'C3', 'C4', 'C5', 'C6', 'C7', \n",
    "       'C8', 'C9', 'C10', 'C11','C12', 'C13', 'C14',\n",
    "        'D1','D10','D15',\n",
    "                           \n",
    "        'V12', 'V13', 'V14', 'V15','V16', 'V17', 'V18', 'V19', 'V20', 'V21', 'V22', 'V23',\n",
    "        'V24', 'V25', 'V26', 'V27', 'V28', 'V29', 'V30', 'V31', 'V32', 'V33','V34',\n",
    "                           \n",
    "       'V95','V96','V97', 'V98', 'V99', 'V100', 'V101', 'V102', 'V103', 'V104', 'V105',\n",
    "       'V106', 'V107', 'V108', 'V109', 'V110', 'V111', 'V112', 'V113', 'V114',\n",
    "       'V115', 'V116', 'V117', 'V118', 'V119', 'V120', 'V121', 'V122', 'V123',\n",
    "       'V124', 'V125', 'V126', 'V127', 'V128', 'V129', 'V130', 'V131', 'V132','V133', 'V134', 'V135', 'V136','V137',\n",
    "                           \n",
    "       'V279','V280','V284', 'V285', 'V286', 'V287', 'V290', 'V291', 'V292',\n",
    "       'V293', 'V294', 'V295', 'V297', 'V298', 'V299', 'V303', 'V304', 'V305', 'V306']]\n",
    "sample = test_sample.fillna(test_sample.mean())"
   ]
  },
  {
   "cell_type": "code",
   "execution_count": 15,
   "metadata": {},
   "outputs": [],
   "source": [
    "dummy_columns = ['ProductCD','card4','card6']\n",
    "#train_dummy = dummy_data(sample, dummy_columns)\n",
    "sample = dummy_data(sample, dummy_columns)"
   ]
  },
  {
   "cell_type": "code",
   "execution_count": 16,
   "metadata": {},
   "outputs": [],
   "source": [
    "predicted = model.predict(sample)"
   ]
  },
  {
   "cell_type": "code",
   "execution_count": 17,
   "metadata": {},
   "outputs": [
    {
     "data": {
      "text/plain": [
       "506691"
      ]
     },
     "execution_count": 17,
     "metadata": {},
     "output_type": "execute_result"
    }
   ],
   "source": [
    "dic = {'TransactionID':test_tran['TransactionID'],\n",
    "       'isFraud':predicted}\n",
    "submission = pd.DataFrame(dic)\n",
    "len (submission)"
   ]
  },
  {
   "cell_type": "code",
   "execution_count": 18,
   "metadata": {},
   "outputs": [],
   "source": [
    "submission.to_csv('submission.csv', index = False)"
   ]
  },
  {
   "cell_type": "code",
   "execution_count": null,
   "metadata": {},
   "outputs": [],
   "source": []
  }
 ],
 "metadata": {
  "kernelspec": {
   "display_name": "Python 3",
   "language": "python",
   "name": "python3"
  },
  "language_info": {
   "codemirror_mode": {
    "name": "ipython",
    "version": 3
   },
   "file_extension": ".py",
   "mimetype": "text/x-python",
   "name": "python",
   "nbconvert_exporter": "python",
   "pygments_lexer": "ipython3",
   "version": "3.7.3"
  }
 },
 "nbformat": 4,
 "nbformat_minor": 2
}
